{
 "cells": [
  {
   "cell_type": "code",
   "execution_count": 1,
   "id": "2ff88ee8-c2b8-414d-b4d9-9cff0f8d2925",
   "metadata": {
    "tags": []
   },
   "outputs": [],
   "source": [
    "import pandas as pd\n",
    "pd.set_option('display.max_columns', None)\n",
    "import numpy as np\n",
    "import seaborn as sns\n",
    "import math\n",
    "import scipy.stats as stats\n",
    "import matplotlib.pyplot as plt\n",
    "import datetime as dt\n",
    "from sklearn import linear_model\n",
    "from sklearn.metrics import mean_squared_error, r2_score\n",
    "from sklearn.model_selection import train_test_split\n",
    "from sklearn.preprocessing import Normalizer\n",
    "from sklearn.preprocessing import OneHotEncoder\n",
    "from sklearn.linear_model import LogisticRegression\n",
    "from sklearn.linear_model import LinearRegression\n",
    "from sklearn.neighbors import KNeighborsRegressor\n",
    "from sklearn.preprocessing import StandardScaler\n",
    "from sklearn.preprocessing import MinMaxScaler\n",
    "from sklearn.preprocessing import MaxAbsScaler\n",
    "from imblearn.over_sampling import SMOTE\n",
    "from imblearn.under_sampling import TomekLinks\n",
    "from sklearn.metrics import confusion_matrix\n",
    "from sklearn.metrics import roc_curve\n",
    "from sklearn.preprocessing import label_binarize\n",
    "from sklearn.metrics import r2_score, mean_squared_error, mean_absolute_error\n",
    "from sklearn import datasets\n",
    "%matplotlib inline"
   ]
  },
  {
   "cell_type": "code",
   "execution_count": 2,
   "id": "c977bd39-32df-4ddc-a194-69db41f7e27b",
   "metadata": {},
   "outputs": [],
   "source": [
    "df = pd.read_csv('C:/Users/mauri/Desktop/regression_data_2.csv')"
   ]
  },
  {
   "cell_type": "markdown",
   "id": "5df57dcf-2658-42ac-a6cb-1e6c7acd6d4c",
   "metadata": {
    "tags": []
   },
   "source": [
    "# Lets explore the data, check each columns, and do basic standarization"
   ]
  },
  {
   "cell_type": "code",
   "execution_count": 3,
   "id": "ac0be7ef-e7ee-40e9-97eb-db4e9a3c4a7a",
   "metadata": {},
   "outputs": [
    {
     "data": {
      "text/html": [
       "<div>\n",
       "<style scoped>\n",
       "    .dataframe tbody tr th:only-of-type {\n",
       "        vertical-align: middle;\n",
       "    }\n",
       "\n",
       "    .dataframe tbody tr th {\n",
       "        vertical-align: top;\n",
       "    }\n",
       "\n",
       "    .dataframe thead th {\n",
       "        text-align: right;\n",
       "    }\n",
       "</style>\n",
       "<table border=\"1\" class=\"dataframe\">\n",
       "  <thead>\n",
       "    <tr style=\"text-align: right;\">\n",
       "      <th></th>\n",
       "      <th>id</th>\n",
       "      <th>date</th>\n",
       "      <th>bedrooms</th>\n",
       "      <th>bathrooms</th>\n",
       "      <th>sqft_living</th>\n",
       "      <th>sqft_lot</th>\n",
       "      <th>floors</th>\n",
       "      <th>waterfront</th>\n",
       "      <th>view</th>\n",
       "      <th>condition</th>\n",
       "      <th>grade</th>\n",
       "      <th>sqft_above</th>\n",
       "      <th>sqft_basement</th>\n",
       "      <th>yr_built</th>\n",
       "      <th>yr_renovated</th>\n",
       "      <th>zipcode</th>\n",
       "      <th>lat</th>\n",
       "      <th>long</th>\n",
       "      <th>sqft_living15</th>\n",
       "      <th>sqft_lot15</th>\n",
       "      <th>price</th>\n",
       "    </tr>\n",
       "  </thead>\n",
       "  <tbody>\n",
       "  </tbody>\n",
       "</table>\n",
       "</div>"
      ],
      "text/plain": [
       "Empty DataFrame\n",
       "Columns: [id, date, bedrooms, bathrooms, sqft_living, sqft_lot, floors, waterfront, view, condition, grade, sqft_above, sqft_basement, yr_built, yr_renovated, zipcode, lat, long, sqft_living15, sqft_lot15, price]\n",
       "Index: []"
      ]
     },
     "execution_count": 3,
     "metadata": {},
     "output_type": "execute_result"
    }
   ],
   "source": [
    "df.head(0)"
   ]
  },
  {
   "cell_type": "code",
   "execution_count": 4,
   "id": "fbadd883-9d7f-41d1-9335-11f375d6e2d1",
   "metadata": {},
   "outputs": [
    {
     "data": {
      "text/plain": [
       "(21597, 21)"
      ]
     },
     "execution_count": 4,
     "metadata": {},
     "output_type": "execute_result"
    }
   ],
   "source": [
    "df.shape"
   ]
  },
  {
   "cell_type": "code",
   "execution_count": 5,
   "id": "6033657f-2fbf-4970-8fca-c8fcef32e7dc",
   "metadata": {},
   "outputs": [
    {
     "data": {
      "text/plain": [
       "id                 int64\n",
       "date              object\n",
       "bedrooms           int64\n",
       "bathrooms        float64\n",
       "sqft_living        int64\n",
       "sqft_lot           int64\n",
       "floors           float64\n",
       "waterfront         int64\n",
       "view               int64\n",
       "condition          int64\n",
       "grade              int64\n",
       "sqft_above         int64\n",
       "sqft_basement      int64\n",
       "yr_built           int64\n",
       "yr_renovated       int64\n",
       "zipcode            int64\n",
       "lat              float64\n",
       "long             float64\n",
       "sqft_living15      int64\n",
       "sqft_lot15         int64\n",
       "price              int64\n",
       "dtype: object"
      ]
     },
     "execution_count": 5,
     "metadata": {},
     "output_type": "execute_result"
    }
   ],
   "source": [
    "df.dtypes"
   ]
  },
  {
   "cell_type": "code",
   "execution_count": 6,
   "id": "7ecf4ea6-44ff-4b86-9e29-e0b9f98990dd",
   "metadata": {},
   "outputs": [
    {
     "name": "stdout",
     "output_type": "stream",
     "text": [
      "<class 'pandas.core.frame.DataFrame'>\n",
      "RangeIndex: 21597 entries, 0 to 21596\n",
      "Data columns (total 21 columns):\n",
      " #   Column         Non-Null Count  Dtype  \n",
      "---  ------         --------------  -----  \n",
      " 0   id             21597 non-null  int64  \n",
      " 1   date           21597 non-null  object \n",
      " 2   bedrooms       21597 non-null  int64  \n",
      " 3   bathrooms      21597 non-null  float64\n",
      " 4   sqft_living    21597 non-null  int64  \n",
      " 5   sqft_lot       21597 non-null  int64  \n",
      " 6   floors         21597 non-null  float64\n",
      " 7   waterfront     21597 non-null  int64  \n",
      " 8   view           21597 non-null  int64  \n",
      " 9   condition      21597 non-null  int64  \n",
      " 10  grade          21597 non-null  int64  \n",
      " 11  sqft_above     21597 non-null  int64  \n",
      " 12  sqft_basement  21597 non-null  int64  \n",
      " 13  yr_built       21597 non-null  int64  \n",
      " 14  yr_renovated   21597 non-null  int64  \n",
      " 15  zipcode        21597 non-null  int64  \n",
      " 16  lat            21597 non-null  float64\n",
      " 17  long           21597 non-null  float64\n",
      " 18  sqft_living15  21597 non-null  int64  \n",
      " 19  sqft_lot15     21597 non-null  int64  \n",
      " 20  price          21597 non-null  int64  \n",
      "dtypes: float64(4), int64(16), object(1)\n",
      "memory usage: 3.5+ MB\n"
     ]
    }
   ],
   "source": [
    "df.info()"
   ]
  },
  {
   "cell_type": "code",
   "execution_count": 7,
   "id": "f3e3f284-d996-4081-9545-d1bb81305180",
   "metadata": {},
   "outputs": [],
   "source": [
    "# I decided to find out how old the the property is, so i made and inserted a new column for that purpose\n",
    "recent_year = 2015\n",
    "age = recent_year - df['yr_built']\n",
    "age = pd.DataFrame(age)\n",
    "# Insert into Dataframe\n",
    "df.insert(13,'age',age)"
   ]
  },
  {
   "cell_type": "code",
   "execution_count": 8,
   "id": "09954b51-b488-42a6-b969-1931f3f30a53",
   "metadata": {},
   "outputs": [],
   "source": [
    "#Turning date into datetime format\n",
    "df['date']= pd.to_datetime(df['date'])"
   ]
  },
  {
   "cell_type": "code",
   "execution_count": 9,
   "id": "d62d111c-de0c-4de3-b322-f183bc6b0a2f",
   "metadata": {},
   "outputs": [],
   "source": [
    "# Lets keep track of our columns lost\n",
    "rows_before_drop = df.shape[0]"
   ]
  },
  {
   "cell_type": "code",
   "execution_count": 10,
   "id": "e846df48-6c77-42cc-b1a9-cce745e443f1",
   "metadata": {},
   "outputs": [
    {
     "data": {
      "text/plain": [
       "177"
      ]
     },
     "execution_count": 10,
     "metadata": {},
     "output_type": "execute_result"
    }
   ],
   "source": [
    "# Check for ID Duplicates, as there are some rows that have duplicate ID's, but not necessarily fully duplicated rows\n",
    "df.duplicated(subset = ['id'] ).sum()"
   ]
  },
  {
   "cell_type": "code",
   "execution_count": 11,
   "id": "7bf8fb7e-4b80-4a01-921c-0495409424da",
   "metadata": {},
   "outputs": [],
   "source": [
    "# Drop duplicates\n",
    "df.drop_duplicates(subset = ['id'], inplace = True)"
   ]
  },
  {
   "cell_type": "code",
   "execution_count": 12,
   "id": "3b969ff8-0869-4d51-bc0c-9bd4420dc64b",
   "metadata": {},
   "outputs": [
    {
     "name": "stdout",
     "output_type": "stream",
     "text": [
      "We lost a total of 177 rows after the drop, or 0.8195582719822199 percent of our data\n"
     ]
    }
   ],
   "source": [
    "# How many rows we lost from drop\n",
    "print('We lost a total of',rows_before_drop-df.shape[0], 'rows after the drop, or', 177/rows_before_drop*100, 'percent of our data')"
   ]
  },
  {
   "cell_type": "code",
   "execution_count": 13,
   "id": "4b22e872-04ef-4a8a-81e9-51c54f873f19",
   "metadata": {},
   "outputs": [],
   "source": [
    "# Reset Index\n",
    "df.reset_index(drop=True, inplace = True)"
   ]
  },
  {
   "cell_type": "markdown",
   "id": "34798615-2716-4888-a452-ea8d33c0e3d1",
   "metadata": {},
   "source": [
    "## Above code was to clean the duplicate id columns, from here, i am gonna to modify the data a bit\n",
    "## I will first extract the month and the year from date, this will reduce my unique dates from 372 to around 13! much better :o"
   ]
  },
  {
   "cell_type": "code",
   "execution_count": 14,
   "id": "185bbae8-e9cb-47e8-a872-13aae474942f",
   "metadata": {},
   "outputs": [
    {
     "name": "stdout",
     "output_type": "stream",
     "text": [
      "We have a total of 372 unique dates in our \"date\" column\n"
     ]
    }
   ],
   "source": [
    "print('We have a total of',df['date'].nunique(),'unique dates in our \"date\" column')"
   ]
  },
  {
   "cell_type": "code",
   "execution_count": 15,
   "id": "5131b114-8713-406d-9846-2587ecc1e2b9",
   "metadata": {},
   "outputs": [],
   "source": [
    "#Used this to extract the year and month from date\n",
    "df['date'] = df['date'].dt.strftime('%Y-%m')\n",
    "#Cast to Datetime Again\n",
    "df['date']= pd.to_datetime(df['date'])"
   ]
  },
  {
   "cell_type": "code",
   "execution_count": 16,
   "id": "c0f2d417-f4c3-44ed-996e-39d2fad6d094",
   "metadata": {},
   "outputs": [
    {
     "name": "stdout",
     "output_type": "stream",
     "text": [
      "Total amount of unique values in date: 13\n"
     ]
    }
   ],
   "source": [
    "print('Total amount of unique values in date:',df['date'].nunique())"
   ]
  },
  {
   "cell_type": "markdown",
   "id": "7c425bfc-afd5-4412-b825-7bb43dd6648b",
   "metadata": {},
   "source": [
    "# Data to be dropped\n",
    "### We will drop waterfront for sure\n",
    "### I also will take the liberty \n",
    "### We will also drop ID, as it doesn't influence our model, its a 'placeholder'"
   ]
  },
  {
   "cell_type": "code",
   "execution_count": 17,
   "id": "09ddbc2d-1b06-484c-bea4-7bb82220b083",
   "metadata": {},
   "outputs": [
    {
     "name": "stdout",
     "output_type": "stream",
     "text": [
      "The data in waterfront is overrepresented by one value, that value taking up 99.2390289449113 % of the data\n",
      "The data in view is overrepresented by one value, that value taking up 90.13071895424837 % of the data\n",
      "The data in yr_renovated is overrepresented by one value, that value taking up 95.75163398692811 % of the data\n"
     ]
    }
   ],
   "source": [
    "print('The data in waterfront is overrepresented by one value, that value taking up',(df['waterfront'].value_counts()/df.shape[0]*100).values[0],'% of the data')\n",
    "print('The data in view is overrepresented by one value, that value taking up',(df['view'].value_counts()/df.shape[0]*100).values[0],'% of the data')\n",
    "print('The data in yr_renovated is overrepresented by one value, that value taking up',(df['yr_renovated'].value_counts()/df.shape[0]*100).values[0],'% of the data')"
   ]
  },
  {
   "cell_type": "code",
   "execution_count": 18,
   "id": "6269e152-46dc-4f7d-8172-93a897f4d43d",
   "metadata": {},
   "outputs": [],
   "source": [
    "df.drop(['waterfront','view','yr_renovated','id','yr_built','zipcode'], axis = 1, inplace = True)"
   ]
  },
  {
   "cell_type": "code",
   "execution_count": 19,
   "id": "086bdd06-6e64-47c0-ad77-1729c35a3065",
   "metadata": {},
   "outputs": [],
   "source": [
    "#Taking date sold and repurposing it into days sold\n",
    "date1 = dt.datetime(2015,5,1,0,0,0)\n",
    "\n",
    "# date1 = date1.strftime('%Y-%m-%d') # Not needed but still helpful\n",
    "\n",
    "type(date1)\n",
    "\n",
    "df['date'].max()\n",
    "\n",
    "time_past = date1 - df['date']\n",
    "\n",
    "time_past = time_past.dt.days #extracts days from timedelta\n",
    "\n",
    "df['date'] = time_past\n",
    "\n",
    "df.rename(columns = {'date':'days_sold'}, inplace = True)"
   ]
  },
  {
   "cell_type": "markdown",
   "id": "3f06f19b-2875-42dc-ba18-a9a9b3a362db",
   "metadata": {},
   "source": [
    "# Check for Null Values: None\n",
    "# Saving a row count to keep track of rows before drop"
   ]
  },
  {
   "cell_type": "code",
   "execution_count": 20,
   "id": "0b129ef9-f9c6-41a6-9c83-51f7eaa13ca6",
   "metadata": {
    "tags": []
   },
   "outputs": [
    {
     "data": {
      "text/plain": [
       "days_sold        0\n",
       "bedrooms         0\n",
       "bathrooms        0\n",
       "sqft_living      0\n",
       "sqft_lot         0\n",
       "floors           0\n",
       "condition        0\n",
       "grade            0\n",
       "sqft_above       0\n",
       "sqft_basement    0\n",
       "age              0\n",
       "lat              0\n",
       "long             0\n",
       "sqft_living15    0\n",
       "sqft_lot15       0\n",
       "price            0\n",
       "dtype: int64"
      ]
     },
     "execution_count": 20,
     "metadata": {},
     "output_type": "execute_result"
    }
   ],
   "source": [
    "df.isna().sum()"
   ]
  },
  {
   "cell_type": "code",
   "execution_count": 21,
   "id": "61872e55-880e-42ff-b786-e3a40ccecf12",
   "metadata": {},
   "outputs": [
    {
     "data": {
      "text/plain": [
       "days_sold          int64\n",
       "bedrooms           int64\n",
       "bathrooms        float64\n",
       "sqft_living        int64\n",
       "sqft_lot           int64\n",
       "floors           float64\n",
       "condition          int64\n",
       "grade              int64\n",
       "sqft_above         int64\n",
       "sqft_basement      int64\n",
       "age                int64\n",
       "lat              float64\n",
       "long             float64\n",
       "sqft_living15      int64\n",
       "sqft_lot15         int64\n",
       "price              int64\n",
       "dtype: object"
      ]
     },
     "execution_count": 21,
     "metadata": {},
     "output_type": "execute_result"
    }
   ],
   "source": [
    "df.dtypes"
   ]
  },
  {
   "cell_type": "code",
   "execution_count": 22,
   "id": "66e4ec8c-44b4-40b6-bd51-4a919be6aa82",
   "metadata": {},
   "outputs": [],
   "source": [
    "rows_before_drop = df.shape[0]"
   ]
  },
  {
   "cell_type": "code",
   "execution_count": 23,
   "id": "3d07bce3-cc58-4d96-8cb7-4e55b73abaef",
   "metadata": {},
   "outputs": [
    {
     "data": {
      "text/plain": [
       "21420"
      ]
     },
     "execution_count": 23,
     "metadata": {},
     "output_type": "execute_result"
    }
   ],
   "source": [
    "rows_before_drop"
   ]
  },
  {
   "cell_type": "markdown",
   "id": "bbf1ca28-fcaf-4344-b94a-b6b3bb1c7ff0",
   "metadata": {},
   "source": [
    "# Exploratory Data Analysis\n",
    "# 1. The following will have some IQR, upper and low calculations, to assist in the outlier removal process"
   ]
  },
  {
   "cell_type": "code",
   "execution_count": 24,
   "id": "e0d6c816-0388-4762-88bf-1e25dd17c99e",
   "metadata": {},
   "outputs": [
    {
     "data": {
      "text/plain": [
       "21420"
      ]
     },
     "execution_count": 24,
     "metadata": {},
     "output_type": "execute_result"
    }
   ],
   "source": [
    "rc_intial = df.shape[0]\n",
    "rc_intial"
   ]
  },
  {
   "cell_type": "code",
   "execution_count": 25,
   "id": "e793bde5-79dd-49ea-be7a-720c13b46b27",
   "metadata": {},
   "outputs": [],
   "source": [
    "df_stats = df.loc[:, ~df.columns.isin(['zipcode','grade','condition','bedrooms'])].describe().T.round(8)"
   ]
  },
  {
   "cell_type": "code",
   "execution_count": 26,
   "id": "65951c34-a009-46bc-8604-1c5a0b2bda4f",
   "metadata": {},
   "outputs": [],
   "source": [
    "df_stats['IQR'] = df_stats['75%'] - df_stats['25%']"
   ]
  },
  {
   "cell_type": "code",
   "execution_count": 27,
   "id": "bf3cdf77-7674-4252-a7ad-fb56d4ea83e2",
   "metadata": {},
   "outputs": [],
   "source": [
    "df_stats['lower_limit'] = df_stats['25%'] - 1.5*df_stats['IQR']\n",
    "df_stats['upper_limit'] = df_stats['75%'] + 1.5*df_stats['IQR']"
   ]
  },
  {
   "cell_type": "code",
   "execution_count": 28,
   "id": "45715e70-06a2-4527-94fe-e6719acad7c0",
   "metadata": {},
   "outputs": [
    {
     "data": {
      "text/html": [
       "<div>\n",
       "<style scoped>\n",
       "    .dataframe tbody tr th:only-of-type {\n",
       "        vertical-align: middle;\n",
       "    }\n",
       "\n",
       "    .dataframe tbody tr th {\n",
       "        vertical-align: top;\n",
       "    }\n",
       "\n",
       "    .dataframe thead th {\n",
       "        text-align: right;\n",
       "    }\n",
       "</style>\n",
       "<table border=\"1\" class=\"dataframe\">\n",
       "  <thead>\n",
       "    <tr style=\"text-align: right;\">\n",
       "      <th></th>\n",
       "      <th>count</th>\n",
       "      <th>mean</th>\n",
       "      <th>std</th>\n",
       "      <th>min</th>\n",
       "      <th>25%</th>\n",
       "      <th>50%</th>\n",
       "      <th>75%</th>\n",
       "      <th>max</th>\n",
       "      <th>IQR</th>\n",
       "      <th>lower_limit</th>\n",
       "      <th>upper_limit</th>\n",
       "    </tr>\n",
       "  </thead>\n",
       "  <tbody>\n",
       "    <tr>\n",
       "      <th>days_sold</th>\n",
       "      <td>21420.0</td>\n",
       "      <td>199.47</td>\n",
       "      <td>113.08</td>\n",
       "      <td>0.00</td>\n",
       "      <td>89.00</td>\n",
       "      <td>212.00</td>\n",
       "      <td>304.00</td>\n",
       "      <td>365.00</td>\n",
       "      <td>215.00</td>\n",
       "      <td>-233.50</td>\n",
       "      <td>626.50</td>\n",
       "    </tr>\n",
       "    <tr>\n",
       "      <th>bathrooms</th>\n",
       "      <td>21420.0</td>\n",
       "      <td>2.12</td>\n",
       "      <td>0.77</td>\n",
       "      <td>0.50</td>\n",
       "      <td>1.75</td>\n",
       "      <td>2.25</td>\n",
       "      <td>2.50</td>\n",
       "      <td>8.00</td>\n",
       "      <td>0.75</td>\n",
       "      <td>0.62</td>\n",
       "      <td>3.62</td>\n",
       "    </tr>\n",
       "    <tr>\n",
       "      <th>sqft_living</th>\n",
       "      <td>21420.0</td>\n",
       "      <td>2083.13</td>\n",
       "      <td>918.81</td>\n",
       "      <td>370.00</td>\n",
       "      <td>1430.00</td>\n",
       "      <td>1920.00</td>\n",
       "      <td>2550.00</td>\n",
       "      <td>13540.00</td>\n",
       "      <td>1120.00</td>\n",
       "      <td>-250.00</td>\n",
       "      <td>4230.00</td>\n",
       "    </tr>\n",
       "    <tr>\n",
       "      <th>sqft_lot</th>\n",
       "      <td>21420.0</td>\n",
       "      <td>15128.04</td>\n",
       "      <td>41530.80</td>\n",
       "      <td>520.00</td>\n",
       "      <td>5040.00</td>\n",
       "      <td>7614.00</td>\n",
       "      <td>10690.50</td>\n",
       "      <td>1651359.00</td>\n",
       "      <td>5650.50</td>\n",
       "      <td>-3435.75</td>\n",
       "      <td>19166.25</td>\n",
       "    </tr>\n",
       "    <tr>\n",
       "      <th>floors</th>\n",
       "      <td>21420.0</td>\n",
       "      <td>1.50</td>\n",
       "      <td>0.54</td>\n",
       "      <td>1.00</td>\n",
       "      <td>1.00</td>\n",
       "      <td>1.50</td>\n",
       "      <td>2.00</td>\n",
       "      <td>3.50</td>\n",
       "      <td>1.00</td>\n",
       "      <td>-0.50</td>\n",
       "      <td>3.50</td>\n",
       "    </tr>\n",
       "    <tr>\n",
       "      <th>sqft_above</th>\n",
       "      <td>21420.0</td>\n",
       "      <td>1791.17</td>\n",
       "      <td>828.69</td>\n",
       "      <td>370.00</td>\n",
       "      <td>1200.00</td>\n",
       "      <td>1560.00</td>\n",
       "      <td>2220.00</td>\n",
       "      <td>9410.00</td>\n",
       "      <td>1020.00</td>\n",
       "      <td>-330.00</td>\n",
       "      <td>3750.00</td>\n",
       "    </tr>\n",
       "    <tr>\n",
       "      <th>sqft_basement</th>\n",
       "      <td>21420.0</td>\n",
       "      <td>291.96</td>\n",
       "      <td>442.88</td>\n",
       "      <td>0.00</td>\n",
       "      <td>0.00</td>\n",
       "      <td>0.00</td>\n",
       "      <td>560.00</td>\n",
       "      <td>4820.00</td>\n",
       "      <td>560.00</td>\n",
       "      <td>-840.00</td>\n",
       "      <td>1400.00</td>\n",
       "    </tr>\n",
       "    <tr>\n",
       "      <th>age</th>\n",
       "      <td>21420.0</td>\n",
       "      <td>43.91</td>\n",
       "      <td>29.39</td>\n",
       "      <td>0.00</td>\n",
       "      <td>18.00</td>\n",
       "      <td>40.00</td>\n",
       "      <td>63.00</td>\n",
       "      <td>115.00</td>\n",
       "      <td>45.00</td>\n",
       "      <td>-49.50</td>\n",
       "      <td>130.50</td>\n",
       "    </tr>\n",
       "    <tr>\n",
       "      <th>lat</th>\n",
       "      <td>21420.0</td>\n",
       "      <td>47.56</td>\n",
       "      <td>0.14</td>\n",
       "      <td>47.16</td>\n",
       "      <td>47.47</td>\n",
       "      <td>47.57</td>\n",
       "      <td>47.68</td>\n",
       "      <td>47.78</td>\n",
       "      <td>0.21</td>\n",
       "      <td>47.16</td>\n",
       "      <td>47.99</td>\n",
       "    </tr>\n",
       "    <tr>\n",
       "      <th>long</th>\n",
       "      <td>21420.0</td>\n",
       "      <td>-122.21</td>\n",
       "      <td>0.14</td>\n",
       "      <td>-122.52</td>\n",
       "      <td>-122.33</td>\n",
       "      <td>-122.23</td>\n",
       "      <td>-122.12</td>\n",
       "      <td>-121.32</td>\n",
       "      <td>0.20</td>\n",
       "      <td>-122.63</td>\n",
       "      <td>-121.82</td>\n",
       "    </tr>\n",
       "    <tr>\n",
       "      <th>sqft_living15</th>\n",
       "      <td>21420.0</td>\n",
       "      <td>1988.38</td>\n",
       "      <td>685.54</td>\n",
       "      <td>399.00</td>\n",
       "      <td>1490.00</td>\n",
       "      <td>1840.00</td>\n",
       "      <td>2370.00</td>\n",
       "      <td>6210.00</td>\n",
       "      <td>880.00</td>\n",
       "      <td>170.00</td>\n",
       "      <td>3690.00</td>\n",
       "    </tr>\n",
       "    <tr>\n",
       "      <th>sqft_lot15</th>\n",
       "      <td>21420.0</td>\n",
       "      <td>12775.72</td>\n",
       "      <td>27345.62</td>\n",
       "      <td>651.00</td>\n",
       "      <td>5100.00</td>\n",
       "      <td>7620.00</td>\n",
       "      <td>10086.25</td>\n",
       "      <td>871200.00</td>\n",
       "      <td>4986.25</td>\n",
       "      <td>-2379.38</td>\n",
       "      <td>17565.62</td>\n",
       "    </tr>\n",
       "    <tr>\n",
       "      <th>price</th>\n",
       "      <td>21420.0</td>\n",
       "      <td>540739.30</td>\n",
       "      <td>367931.11</td>\n",
       "      <td>78000.00</td>\n",
       "      <td>322500.00</td>\n",
       "      <td>450000.00</td>\n",
       "      <td>645000.00</td>\n",
       "      <td>7700000.00</td>\n",
       "      <td>322500.00</td>\n",
       "      <td>-161250.00</td>\n",
       "      <td>1128750.00</td>\n",
       "    </tr>\n",
       "  </tbody>\n",
       "</table>\n",
       "</div>"
      ],
      "text/plain": [
       "                 count       mean        std       min        25%        50%  \\\n",
       "days_sold      21420.0     199.47     113.08      0.00      89.00     212.00   \n",
       "bathrooms      21420.0       2.12       0.77      0.50       1.75       2.25   \n",
       "sqft_living    21420.0    2083.13     918.81    370.00    1430.00    1920.00   \n",
       "sqft_lot       21420.0   15128.04   41530.80    520.00    5040.00    7614.00   \n",
       "floors         21420.0       1.50       0.54      1.00       1.00       1.50   \n",
       "sqft_above     21420.0    1791.17     828.69    370.00    1200.00    1560.00   \n",
       "sqft_basement  21420.0     291.96     442.88      0.00       0.00       0.00   \n",
       "age            21420.0      43.91      29.39      0.00      18.00      40.00   \n",
       "lat            21420.0      47.56       0.14     47.16      47.47      47.57   \n",
       "long           21420.0    -122.21       0.14   -122.52    -122.33    -122.23   \n",
       "sqft_living15  21420.0    1988.38     685.54    399.00    1490.00    1840.00   \n",
       "sqft_lot15     21420.0   12775.72   27345.62    651.00    5100.00    7620.00   \n",
       "price          21420.0  540739.30  367931.11  78000.00  322500.00  450000.00   \n",
       "\n",
       "                     75%         max        IQR  lower_limit  upper_limit  \n",
       "days_sold         304.00      365.00     215.00      -233.50       626.50  \n",
       "bathrooms           2.50        8.00       0.75         0.62         3.62  \n",
       "sqft_living      2550.00    13540.00    1120.00      -250.00      4230.00  \n",
       "sqft_lot        10690.50  1651359.00    5650.50     -3435.75     19166.25  \n",
       "floors              2.00        3.50       1.00        -0.50         3.50  \n",
       "sqft_above       2220.00     9410.00    1020.00      -330.00      3750.00  \n",
       "sqft_basement     560.00     4820.00     560.00      -840.00      1400.00  \n",
       "age                63.00      115.00      45.00       -49.50       130.50  \n",
       "lat                47.68       47.78       0.21        47.16        47.99  \n",
       "long             -122.12     -121.32       0.20      -122.63      -121.82  \n",
       "sqft_living15    2370.00     6210.00     880.00       170.00      3690.00  \n",
       "sqft_lot15      10086.25   871200.00    4986.25     -2379.38     17565.62  \n",
       "price          645000.00  7700000.00  322500.00   -161250.00   1128750.00  "
      ]
     },
     "execution_count": 28,
     "metadata": {},
     "output_type": "execute_result"
    }
   ],
   "source": [
    "df_stats.round(2)"
   ]
  },
  {
   "cell_type": "markdown",
   "id": "932d580e-da3e-461e-a3bc-0645a3bfa1c6",
   "metadata": {},
   "source": [
    "# 2. We also have a heatmap, which can give us a quick check for colinearity"
   ]
  },
  {
   "cell_type": "code",
   "execution_count": 29,
   "id": "560ab6ae-a29e-4c1a-9ee1-53cb768e4331",
   "metadata": {},
   "outputs": [
    {
     "data": {
      "text/html": [
       "<div>\n",
       "<style scoped>\n",
       "    .dataframe tbody tr th:only-of-type {\n",
       "        vertical-align: middle;\n",
       "    }\n",
       "\n",
       "    .dataframe tbody tr th {\n",
       "        vertical-align: top;\n",
       "    }\n",
       "\n",
       "    .dataframe thead th {\n",
       "        text-align: right;\n",
       "    }\n",
       "</style>\n",
       "<table border=\"1\" class=\"dataframe\">\n",
       "  <thead>\n",
       "    <tr style=\"text-align: right;\">\n",
       "      <th></th>\n",
       "      <th>days_sold</th>\n",
       "      <th>bedrooms</th>\n",
       "      <th>bathrooms</th>\n",
       "      <th>sqft_living</th>\n",
       "      <th>sqft_lot</th>\n",
       "      <th>floors</th>\n",
       "      <th>condition</th>\n",
       "      <th>grade</th>\n",
       "      <th>sqft_above</th>\n",
       "      <th>sqft_basement</th>\n",
       "      <th>age</th>\n",
       "      <th>lat</th>\n",
       "      <th>long</th>\n",
       "      <th>sqft_living15</th>\n",
       "      <th>sqft_lot15</th>\n",
       "      <th>price</th>\n",
       "    </tr>\n",
       "  </thead>\n",
       "  <tbody>\n",
       "    <tr>\n",
       "      <th>days_sold</th>\n",
       "      <td>1.000000</td>\n",
       "      <td>0.015260</td>\n",
       "      <td>0.030254</td>\n",
       "      <td>0.030194</td>\n",
       "      <td>-0.006912</td>\n",
       "      <td>0.018110</td>\n",
       "      <td>0.049353</td>\n",
       "      <td>0.034006</td>\n",
       "      <td>0.023944</td>\n",
       "      <td>0.017840</td>\n",
       "      <td>0.004010</td>\n",
       "      <td>0.030427</td>\n",
       "      <td>0.005149</td>\n",
       "      <td>0.027653</td>\n",
       "      <td>-0.003406</td>\n",
       "      <td>0.001531</td>\n",
       "    </tr>\n",
       "    <tr>\n",
       "      <th>bedrooms</th>\n",
       "      <td>0.015260</td>\n",
       "      <td>1.000000</td>\n",
       "      <td>0.515383</td>\n",
       "      <td>0.579069</td>\n",
       "      <td>0.032490</td>\n",
       "      <td>0.177734</td>\n",
       "      <td>0.025893</td>\n",
       "      <td>0.357988</td>\n",
       "      <td>0.480242</td>\n",
       "      <td>0.302748</td>\n",
       "      <td>-0.155241</td>\n",
       "      <td>-0.011266</td>\n",
       "      <td>0.132439</td>\n",
       "      <td>0.394949</td>\n",
       "      <td>0.030570</td>\n",
       "      <td>0.309453</td>\n",
       "    </tr>\n",
       "    <tr>\n",
       "      <th>bathrooms</th>\n",
       "      <td>0.030254</td>\n",
       "      <td>0.515383</td>\n",
       "      <td>1.000000</td>\n",
       "      <td>0.755522</td>\n",
       "      <td>0.087779</td>\n",
       "      <td>0.501803</td>\n",
       "      <td>-0.129362</td>\n",
       "      <td>0.665587</td>\n",
       "      <td>0.686328</td>\n",
       "      <td>0.283205</td>\n",
       "      <td>-0.506252</td>\n",
       "      <td>0.023143</td>\n",
       "      <td>0.223808</td>\n",
       "      <td>0.569453</td>\n",
       "      <td>0.087760</td>\n",
       "      <td>0.526229</td>\n",
       "    </tr>\n",
       "    <tr>\n",
       "      <th>sqft_living</th>\n",
       "      <td>0.030194</td>\n",
       "      <td>0.579069</td>\n",
       "      <td>0.755522</td>\n",
       "      <td>1.000000</td>\n",
       "      <td>0.172586</td>\n",
       "      <td>0.352868</td>\n",
       "      <td>-0.061677</td>\n",
       "      <td>0.762477</td>\n",
       "      <td>0.876533</td>\n",
       "      <td>0.434505</td>\n",
       "      <td>-0.316646</td>\n",
       "      <td>0.050739</td>\n",
       "      <td>0.240212</td>\n",
       "      <td>0.756186</td>\n",
       "      <td>0.183837</td>\n",
       "      <td>0.701875</td>\n",
       "    </tr>\n",
       "    <tr>\n",
       "      <th>sqft_lot</th>\n",
       "      <td>-0.006912</td>\n",
       "      <td>0.032490</td>\n",
       "      <td>0.087779</td>\n",
       "      <td>0.172586</td>\n",
       "      <td>1.000000</td>\n",
       "      <td>-0.005561</td>\n",
       "      <td>-0.009169</td>\n",
       "      <td>0.113656</td>\n",
       "      <td>0.183210</td>\n",
       "      <td>0.015239</td>\n",
       "      <td>-0.052312</td>\n",
       "      <td>-0.085822</td>\n",
       "      <td>0.230265</td>\n",
       "      <td>0.143805</td>\n",
       "      <td>0.717743</td>\n",
       "      <td>0.089111</td>\n",
       "    </tr>\n",
       "    <tr>\n",
       "      <th>floors</th>\n",
       "      <td>0.018110</td>\n",
       "      <td>0.177734</td>\n",
       "      <td>0.501803</td>\n",
       "      <td>0.352868</td>\n",
       "      <td>-0.005561</td>\n",
       "      <td>1.000000</td>\n",
       "      <td>-0.266859</td>\n",
       "      <td>0.458091</td>\n",
       "      <td>0.522751</td>\n",
       "      <td>-0.246078</td>\n",
       "      <td>-0.488935</td>\n",
       "      <td>0.048900</td>\n",
       "      <td>0.124812</td>\n",
       "      <td>0.279071</td>\n",
       "      <td>-0.011367</td>\n",
       "      <td>0.256286</td>\n",
       "    </tr>\n",
       "    <tr>\n",
       "      <th>condition</th>\n",
       "      <td>0.049353</td>\n",
       "      <td>0.025893</td>\n",
       "      <td>-0.129362</td>\n",
       "      <td>-0.061677</td>\n",
       "      <td>-0.009169</td>\n",
       "      <td>-0.266859</td>\n",
       "      <td>1.000000</td>\n",
       "      <td>-0.150508</td>\n",
       "      <td>-0.161483</td>\n",
       "      <td>0.174204</td>\n",
       "      <td>0.365129</td>\n",
       "      <td>-0.015566</td>\n",
       "      <td>-0.107154</td>\n",
       "      <td>-0.095256</td>\n",
       "      <td>-0.003450</td>\n",
       "      <td>0.034779</td>\n",
       "    </tr>\n",
       "    <tr>\n",
       "      <th>grade</th>\n",
       "      <td>0.034006</td>\n",
       "      <td>0.357988</td>\n",
       "      <td>0.665587</td>\n",
       "      <td>0.762477</td>\n",
       "      <td>0.113656</td>\n",
       "      <td>0.458091</td>\n",
       "      <td>-0.150508</td>\n",
       "      <td>1.000000</td>\n",
       "      <td>0.756221</td>\n",
       "      <td>0.166854</td>\n",
       "      <td>-0.446235</td>\n",
       "      <td>0.112815</td>\n",
       "      <td>0.198555</td>\n",
       "      <td>0.713178</td>\n",
       "      <td>0.120056</td>\n",
       "      <td>0.668020</td>\n",
       "    </tr>\n",
       "    <tr>\n",
       "      <th>sqft_above</th>\n",
       "      <td>0.023944</td>\n",
       "      <td>0.480242</td>\n",
       "      <td>0.686328</td>\n",
       "      <td>0.876533</td>\n",
       "      <td>0.183210</td>\n",
       "      <td>0.522751</td>\n",
       "      <td>-0.161483</td>\n",
       "      <td>0.756221</td>\n",
       "      <td>1.000000</td>\n",
       "      <td>-0.052672</td>\n",
       "      <td>-0.422977</td>\n",
       "      <td>-0.002040</td>\n",
       "      <td>0.344161</td>\n",
       "      <td>0.731887</td>\n",
       "      <td>0.194445</td>\n",
       "      <td>0.605294</td>\n",
       "    </tr>\n",
       "    <tr>\n",
       "      <th>sqft_basement</th>\n",
       "      <td>0.017840</td>\n",
       "      <td>0.302748</td>\n",
       "      <td>0.283205</td>\n",
       "      <td>0.434505</td>\n",
       "      <td>0.015239</td>\n",
       "      <td>-0.246078</td>\n",
       "      <td>0.174204</td>\n",
       "      <td>0.166854</td>\n",
       "      <td>-0.052672</td>\n",
       "      <td>1.000000</td>\n",
       "      <td>0.134532</td>\n",
       "      <td>0.109081</td>\n",
       "      <td>-0.145628</td>\n",
       "      <td>0.199334</td>\n",
       "      <td>0.017558</td>\n",
       "      <td>0.323536</td>\n",
       "    </tr>\n",
       "    <tr>\n",
       "      <th>age</th>\n",
       "      <td>0.004010</td>\n",
       "      <td>-0.155241</td>\n",
       "      <td>-0.506252</td>\n",
       "      <td>-0.316646</td>\n",
       "      <td>-0.052312</td>\n",
       "      <td>-0.488935</td>\n",
       "      <td>0.365129</td>\n",
       "      <td>-0.446235</td>\n",
       "      <td>-0.422977</td>\n",
       "      <td>0.134532</td>\n",
       "      <td>1.000000</td>\n",
       "      <td>0.148857</td>\n",
       "      <td>-0.409173</td>\n",
       "      <td>-0.324715</td>\n",
       "      <td>-0.070125</td>\n",
       "      <td>-0.052906</td>\n",
       "    </tr>\n",
       "    <tr>\n",
       "      <th>lat</th>\n",
       "      <td>0.030427</td>\n",
       "      <td>-0.011266</td>\n",
       "      <td>0.023143</td>\n",
       "      <td>0.050739</td>\n",
       "      <td>-0.085822</td>\n",
       "      <td>0.048900</td>\n",
       "      <td>-0.015566</td>\n",
       "      <td>0.112815</td>\n",
       "      <td>-0.002040</td>\n",
       "      <td>0.109081</td>\n",
       "      <td>0.148857</td>\n",
       "      <td>1.000000</td>\n",
       "      <td>-0.136228</td>\n",
       "      <td>0.047485</td>\n",
       "      <td>-0.086223</td>\n",
       "      <td>0.305744</td>\n",
       "    </tr>\n",
       "    <tr>\n",
       "      <th>long</th>\n",
       "      <td>0.005149</td>\n",
       "      <td>0.132439</td>\n",
       "      <td>0.223808</td>\n",
       "      <td>0.240212</td>\n",
       "      <td>0.230265</td>\n",
       "      <td>0.124812</td>\n",
       "      <td>-0.107154</td>\n",
       "      <td>0.198555</td>\n",
       "      <td>0.344161</td>\n",
       "      <td>-0.145628</td>\n",
       "      <td>-0.409173</td>\n",
       "      <td>-0.136228</td>\n",
       "      <td>1.000000</td>\n",
       "      <td>0.334679</td>\n",
       "      <td>0.255420</td>\n",
       "      <td>0.020983</td>\n",
       "    </tr>\n",
       "    <tr>\n",
       "      <th>sqft_living15</th>\n",
       "      <td>0.027653</td>\n",
       "      <td>0.394949</td>\n",
       "      <td>0.569453</td>\n",
       "      <td>0.756186</td>\n",
       "      <td>0.143805</td>\n",
       "      <td>0.279071</td>\n",
       "      <td>-0.095256</td>\n",
       "      <td>0.713178</td>\n",
       "      <td>0.731887</td>\n",
       "      <td>0.199334</td>\n",
       "      <td>-0.324715</td>\n",
       "      <td>0.047485</td>\n",
       "      <td>0.334679</td>\n",
       "      <td>1.000000</td>\n",
       "      <td>0.182765</td>\n",
       "      <td>0.584549</td>\n",
       "    </tr>\n",
       "    <tr>\n",
       "      <th>sqft_lot15</th>\n",
       "      <td>-0.003406</td>\n",
       "      <td>0.030570</td>\n",
       "      <td>0.087760</td>\n",
       "      <td>0.183837</td>\n",
       "      <td>0.717743</td>\n",
       "      <td>-0.011367</td>\n",
       "      <td>-0.003450</td>\n",
       "      <td>0.120056</td>\n",
       "      <td>0.194445</td>\n",
       "      <td>0.017558</td>\n",
       "      <td>-0.070125</td>\n",
       "      <td>-0.086223</td>\n",
       "      <td>0.255420</td>\n",
       "      <td>0.182765</td>\n",
       "      <td>1.000000</td>\n",
       "      <td>0.082438</td>\n",
       "    </tr>\n",
       "    <tr>\n",
       "      <th>price</th>\n",
       "      <td>0.001531</td>\n",
       "      <td>0.309453</td>\n",
       "      <td>0.526229</td>\n",
       "      <td>0.701875</td>\n",
       "      <td>0.089111</td>\n",
       "      <td>0.256286</td>\n",
       "      <td>0.034779</td>\n",
       "      <td>0.668020</td>\n",
       "      <td>0.605294</td>\n",
       "      <td>0.323536</td>\n",
       "      <td>-0.052906</td>\n",
       "      <td>0.305744</td>\n",
       "      <td>0.020983</td>\n",
       "      <td>0.584549</td>\n",
       "      <td>0.082438</td>\n",
       "      <td>1.000000</td>\n",
       "    </tr>\n",
       "  </tbody>\n",
       "</table>\n",
       "</div>"
      ],
      "text/plain": [
       "               days_sold  bedrooms  bathrooms  sqft_living  sqft_lot  \\\n",
       "days_sold       1.000000  0.015260   0.030254     0.030194 -0.006912   \n",
       "bedrooms        0.015260  1.000000   0.515383     0.579069  0.032490   \n",
       "bathrooms       0.030254  0.515383   1.000000     0.755522  0.087779   \n",
       "sqft_living     0.030194  0.579069   0.755522     1.000000  0.172586   \n",
       "sqft_lot       -0.006912  0.032490   0.087779     0.172586  1.000000   \n",
       "floors          0.018110  0.177734   0.501803     0.352868 -0.005561   \n",
       "condition       0.049353  0.025893  -0.129362    -0.061677 -0.009169   \n",
       "grade           0.034006  0.357988   0.665587     0.762477  0.113656   \n",
       "sqft_above      0.023944  0.480242   0.686328     0.876533  0.183210   \n",
       "sqft_basement   0.017840  0.302748   0.283205     0.434505  0.015239   \n",
       "age             0.004010 -0.155241  -0.506252    -0.316646 -0.052312   \n",
       "lat             0.030427 -0.011266   0.023143     0.050739 -0.085822   \n",
       "long            0.005149  0.132439   0.223808     0.240212  0.230265   \n",
       "sqft_living15   0.027653  0.394949   0.569453     0.756186  0.143805   \n",
       "sqft_lot15     -0.003406  0.030570   0.087760     0.183837  0.717743   \n",
       "price           0.001531  0.309453   0.526229     0.701875  0.089111   \n",
       "\n",
       "                 floors  condition     grade  sqft_above  sqft_basement  \\\n",
       "days_sold      0.018110   0.049353  0.034006    0.023944       0.017840   \n",
       "bedrooms       0.177734   0.025893  0.357988    0.480242       0.302748   \n",
       "bathrooms      0.501803  -0.129362  0.665587    0.686328       0.283205   \n",
       "sqft_living    0.352868  -0.061677  0.762477    0.876533       0.434505   \n",
       "sqft_lot      -0.005561  -0.009169  0.113656    0.183210       0.015239   \n",
       "floors         1.000000  -0.266859  0.458091    0.522751      -0.246078   \n",
       "condition     -0.266859   1.000000 -0.150508   -0.161483       0.174204   \n",
       "grade          0.458091  -0.150508  1.000000    0.756221       0.166854   \n",
       "sqft_above     0.522751  -0.161483  0.756221    1.000000      -0.052672   \n",
       "sqft_basement -0.246078   0.174204  0.166854   -0.052672       1.000000   \n",
       "age           -0.488935   0.365129 -0.446235   -0.422977       0.134532   \n",
       "lat            0.048900  -0.015566  0.112815   -0.002040       0.109081   \n",
       "long           0.124812  -0.107154  0.198555    0.344161      -0.145628   \n",
       "sqft_living15  0.279071  -0.095256  0.713178    0.731887       0.199334   \n",
       "sqft_lot15    -0.011367  -0.003450  0.120056    0.194445       0.017558   \n",
       "price          0.256286   0.034779  0.668020    0.605294       0.323536   \n",
       "\n",
       "                    age       lat      long  sqft_living15  sqft_lot15  \\\n",
       "days_sold      0.004010  0.030427  0.005149       0.027653   -0.003406   \n",
       "bedrooms      -0.155241 -0.011266  0.132439       0.394949    0.030570   \n",
       "bathrooms     -0.506252  0.023143  0.223808       0.569453    0.087760   \n",
       "sqft_living   -0.316646  0.050739  0.240212       0.756186    0.183837   \n",
       "sqft_lot      -0.052312 -0.085822  0.230265       0.143805    0.717743   \n",
       "floors        -0.488935  0.048900  0.124812       0.279071   -0.011367   \n",
       "condition      0.365129 -0.015566 -0.107154      -0.095256   -0.003450   \n",
       "grade         -0.446235  0.112815  0.198555       0.713178    0.120056   \n",
       "sqft_above    -0.422977 -0.002040  0.344161       0.731887    0.194445   \n",
       "sqft_basement  0.134532  0.109081 -0.145628       0.199334    0.017558   \n",
       "age            1.000000  0.148857 -0.409173      -0.324715   -0.070125   \n",
       "lat            0.148857  1.000000 -0.136228       0.047485   -0.086223   \n",
       "long          -0.409173 -0.136228  1.000000       0.334679    0.255420   \n",
       "sqft_living15 -0.324715  0.047485  0.334679       1.000000    0.182765   \n",
       "sqft_lot15    -0.070125 -0.086223  0.255420       0.182765    1.000000   \n",
       "price         -0.052906  0.305744  0.020983       0.584549    0.082438   \n",
       "\n",
       "                  price  \n",
       "days_sold      0.001531  \n",
       "bedrooms       0.309453  \n",
       "bathrooms      0.526229  \n",
       "sqft_living    0.701875  \n",
       "sqft_lot       0.089111  \n",
       "floors         0.256286  \n",
       "condition      0.034779  \n",
       "grade          0.668020  \n",
       "sqft_above     0.605294  \n",
       "sqft_basement  0.323536  \n",
       "age           -0.052906  \n",
       "lat            0.305744  \n",
       "long           0.020983  \n",
       "sqft_living15  0.584549  \n",
       "sqft_lot15     0.082438  \n",
       "price          1.000000  "
      ]
     },
     "execution_count": 29,
     "metadata": {},
     "output_type": "execute_result"
    }
   ],
   "source": [
    "corr_matrix = df.corr()\n",
    "corr_matrix"
   ]
  },
  {
   "cell_type": "code",
   "execution_count": 30,
   "id": "a0a9cbb6-863c-4546-9669-4e7fbd2871d8",
   "metadata": {},
   "outputs": [
    {
     "data": {
      "image/png": "[encoded data removed]",
      "text/plain": [
       "<Figure size 1080x720 with 2 Axes>"
      ]
     },
     "metadata": {
      "needs_background": "light"
     },
     "output_type": "display_data"
    }
   ],
   "source": [
    "mask = np.triu(np.ones_like(corr_matrix, dtype = bool))\n",
    "fig, ax = plt.subplots(figsize = (15,10))\n",
    "ax = sns.heatmap(data = corr_matrix,mask=mask ,annot=True)"
   ]
  },
  {
   "cell_type": "markdown",
   "id": "5b906dd1-6a92-4212-9e70-73e3f9012bb2",
   "metadata": {
    "tags": []
   },
   "source": [
    "# 3. We will not draw some distribution plots to take a general look at our data\n",
    "## NOTE: Some of the data plotted is categorical in nature, thus isn't well represented with distribtion plots\n",
    "## It is still helpful to see them this way, to see which ones are categorical in nature."
   ]
  },
  {
   "cell_type": "code",
   "execution_count": 31,
   "id": "9cf56f85-5dde-4aed-b746-b53d10c0186f",
   "metadata": {},
   "outputs": [
    {
     "data": {
      "image/png": "[encoded data removed]",
      "text/plain": [
       "<Figure size 360x360 with 1 Axes>"
      ]
     },
     "metadata": {
      "needs_background": "light"
     },
     "output_type": "display_data"
    },
    {
     "data": {
      "image/png": "[encoded data removed]",
      "text/plain": [
       "<Figure size 360x360 with 1 Axes>"
      ]
     },
     "metadata": {
      "needs_background": "light"
     },
     "output_type": "display_data"
    },
    {
     "data": {
      "image/png": "[encoded data removed]",
      "text/plain": [
       "<Figure size 360x360 with 1 Axes>"
      ]
     },
     "metadata": {
      "needs_background": "light"
     },
     "output_type": "display_data"
    },
    {
     "data": {
      "image/png": "[encoded data removed]",
      "text/plain": [
       "<Figure size 360x360 with 1 Axes>"
      ]
     },
     "metadata": {
      "needs_background": "light"
     },
     "output_type": "display_data"
    },
    {
     "data": {
      "image/png": "[encoded data removed]",
      "text/plain": [
       "<Figure size 360x360 with 1 Axes>"
      ]
     },
     "metadata": {
      "needs_background": "light"
     },
     "output_type": "display_data"
    },
    {
     "data": {
      "image/png": "[encoded data removed]",
      "text/plain": [
       "<Figure size 360x360 with 1 Axes>"
      ]
     },
     "metadata": {
      "needs_background": "light"
     },
     "output_type": "display_data"
    },
    {
     "data": {
      "image/png": "[encoded data removed]",
      "text/plain": [
       "<Figure size 360x360 with 1 Axes>"
      ]
     },
     "metadata": {
      "needs_background": "light"
     },
     "output_type": "display_data"
    },
    {
     "data": {
      "image/png": "[encoded data removed]",
      "text/plain": [
       "<Figure size 360x360 with 1 Axes>"
      ]
     },
     "metadata": {
      "needs_background": "light"
     },
     "output_type": "display_data"
    },
    {
     "data": {
      "image/png": "[encoded data removed]",
      "text/plain": [
       "<Figure size 360x360 with 1 Axes>"
      ]
     },
     "metadata": {
      "needs_background": "light"
     },
     "output_type": "display_data"
    },
    {
     "data": {
      "image/png": "[encoded data removed]",
      "text/plain": [
       "<Figure size 360x360 with 1 Axes>"
      ]
     },
     "metadata": {
      "needs_background": "light"
     },
     "output_type": "display_data"
    },
    {
     "data": {
      "image/png": "[encoded data removed]",
      "text/plain": [
       "<Figure size 360x360 with 1 Axes>"
      ]
     },
     "metadata": {
      "needs_background": "light"
     },
     "output_type": "display_data"
    },
    {
     "data": {
      "image/png": "[encoded data removed]",
      "text/plain": [
       "<Figure size 360x360 with 1 Axes>"
      ]
     },
     "metadata": {
      "needs_background": "light"
     },
     "output_type": "display_data"
    },
    {
     "data": {
      "image/png": "[encoded data removed]",
      "text/plain": [
       "<Figure size 360x360 with 1 Axes>"
      ]
     },
     "metadata": {
      "needs_background": "light"
     },
     "output_type": "display_data"
    }
   ],
   "source": [
    "df_stats_col = list(df_stats.index)\n",
    "for i in df_stats_col:\n",
    "    plt.figure\n",
    "    sns.displot(df[i])\n",
    "    plt.title(i)\n",
    "    plt.show()"
   ]
  },
  {
   "cell_type": "code",
   "execution_count": 32,
   "id": "d205bd93-7533-46fa-a90c-be663e6e2c79",
   "metadata": {},
   "outputs": [
    {
     "data": {
      "text/plain": [
       "5000      1.657330\n",
       "6000      1.335201\n",
       "4000      1.162465\n",
       "7200      1.017740\n",
       "7500      0.550887\n",
       "            ...   \n",
       "24330     0.004669\n",
       "215622    0.004669\n",
       "6022      0.004669\n",
       "2323      0.004669\n",
       "1076      0.004669\n",
       "Name: sqft_lot, Length: 9776, dtype: float64"
      ]
     },
     "execution_count": 32,
     "metadata": {},
     "output_type": "execute_result"
    }
   ],
   "source": [
    "df['sqft_lot'].value_counts()/df.shape[0]*100"
   ]
  },
  {
   "cell_type": "markdown",
   "id": "ec907897-1855-45fa-b811-243f487e2f19",
   "metadata": {},
   "source": [
    "# 4. Using Countplot to count our catgegoical data is a bit more useful\n",
    "## The following two graphs are a count of bathrooms and floors, respecfully."
   ]
  },
  {
   "cell_type": "code",
   "execution_count": 33,
   "id": "fa089ee0-0d27-4cb9-b04b-b7f93df8184e",
   "metadata": {},
   "outputs": [],
   "source": [
    "df_bar1 = df[['bathrooms','price']].groupby(['bathrooms']).mean().round(3) #Getting Average price of bathroom per bathroom type, same for the following features\n",
    "\n",
    "df_bar2 = df[['floors','price']].groupby(['floors']).mean().round(3)\n",
    "\n",
    "df_bar3 = df[['condition','price']].groupby(['condition']).mean().round(3)\n",
    "\n",
    "df_bar4 = df[['grade','price']].groupby(['grade']).mean().round(3)\n",
    "\n",
    "df_bar5 = df[['days_sold','price']].groupby(['days_sold']).mean().round(3)\n",
    "\n",
    "df_bar6 = df[['bedrooms','price']].groupby(['bedrooms']).mean().round(3)\n",
    "\n",
    "\n",
    "df_bar1.reset_index(inplace = True) #Reset the index so we can graph it\n",
    "\n",
    "df_bar2.reset_index(inplace = True)\n",
    "\n",
    "df_bar3.reset_index(inplace = True)\n",
    "\n",
    "df_bar4.reset_index(inplace = True)\n",
    "\n",
    "df_bar5.reset_index(inplace = True)\n",
    "\n",
    "df_bar6.reset_index(inplace = True)\n"
   ]
  },
  {
   "cell_type": "code",
   "execution_count": 34,
   "id": "4d606c96-4038-47d3-8c42-3b4342050f84",
   "metadata": {},
   "outputs": [
    {
     "data": {
      "image/png": "[encoded data removed]",
      "text/plain": [
       "<Figure size 1440x360 with 1 Axes>"
      ]
     },
     "metadata": {
      "needs_background": "light"
     },
     "output_type": "display_data"
    }
   ],
   "source": [
    "order_bathroom = df['bathrooms'].value_counts().index.tolist()\n",
    "fig, ax = plt.subplots(figsize = (20,5))\n",
    "ax = sns.countplot(x = df['bathrooms'], order = order_bathroom)\n",
    "plt.title('Count of Bathroom types')\n",
    "plt.show()"
   ]
  },
  {
   "cell_type": "code",
   "execution_count": 35,
   "id": "8ed65f47-0f9a-401b-b70a-2a248ca2f158",
   "metadata": {},
   "outputs": [
    {
     "data": {
      "image/png": "[encoded data removed]",
      "text/plain": [
       "<Figure size 1440x360 with 1 Axes>"
      ]
     },
     "metadata": {
      "needs_background": "light"
     },
     "output_type": "display_data"
    }
   ],
   "source": [
    "order_bathroom = df['floors'].value_counts().index.tolist()\n",
    "fig, ax = plt.subplots(figsize = (20,5))\n",
    "ax = sns.countplot(x = df['floors'], order = order_bathroom)\n",
    "plt.title('Count of types of floors')\n",
    "plt.show()"
   ]
  },
  {
   "cell_type": "markdown",
   "id": "b56d890d-724c-4fcd-be17-d5d541073b8f",
   "metadata": {},
   "source": [
    "# "
   ]
  },
  {
   "cell_type": "markdown",
   "id": "5e926f4b-6cca-4e60-9047-0fbda1e4c7b4",
   "metadata": {},
   "source": [
    "# 5. The following code is an a categorical feature vs average price for each.\n",
    "## Following each code, we removed small representations of our data, i.e if a value pops up 6 times out of around 20,00 rows, it is removed\n",
    "## See first instance to understand logic throughout"
   ]
  },
  {
   "cell_type": "code",
   "execution_count": 36,
   "id": "e21f8963-27c5-44fd-9598-b157ed0dc1f0",
   "metadata": {},
   "outputs": [
    {
     "data": {
      "image/png": "[encoded data removed]",
      "text/plain": [
       "<Figure size 1080x360 with 1 Axes>"
      ]
     },
     "metadata": {
      "needs_background": "light"
     },
     "output_type": "display_data"
    }
   ],
   "source": [
    "fig, ax = plt.subplots(figsize=(15,5))\n",
    "ax = sns.barplot(x = 'bathrooms' , y = 'price' , data = df_bar1)\n",
    "plt.ylabel('Average Price')\n",
    "plt.title('Average Price based on amount of bathrooms')\n",
    "plt.show()"
   ]
  },
  {
   "cell_type": "code",
   "execution_count": 37,
   "id": "62256baa-177f-4786-b7e2-3de647e79024",
   "metadata": {},
   "outputs": [],
   "source": [
    "bath_percent = df['bathrooms'].value_counts()/df.shape[0]*100 # Check to see percentage represented by each value\n",
    "\n",
    "bath_percent.values[0:14].sum() # A rudimentary way to check how much a certain amount of values take up the whole data set, i.e the first 13 values take up 99% of our data \n",
    "\n",
    "bathroom_filter = bath_percent.index[0:14].tolist() # Take those values that take up 95%-99% of our data \n",
    "\n",
    "rows_before_bathroom_filter = df.shape[0] # Row check before\n",
    "\n",
    "df = df[df['bathrooms'].isin(bathroom_filter)] #Keep only those values which our in our 95 to 99% percent\n",
    "\n",
    "rows_after_bathroom_filter = df.shape[0] # Row check after\n",
    "\n",
    "r_filter_bathroom = rows_before_bathroom_filter - rows_after_bathroom_filter # How many rows did we lose?"
   ]
  },
  {
   "cell_type": "code",
   "execution_count": 38,
   "id": "d490d533-4508-4ef0-9992-d17b996900e9",
   "metadata": {},
   "outputs": [
    {
     "name": "stdout",
     "output_type": "stream",
     "text": [
      "We lost 170 rows\n"
     ]
    }
   ],
   "source": [
    "print('We lost',r_filter_bathroom,'rows')"
   ]
  },
  {
   "cell_type": "markdown",
   "id": "697e9076-199e-468f-9e4e-2c8e3eba6e6c",
   "metadata": {},
   "source": [
    "## Because we will use bathrooms as a categorical column, we will bin the number of values. \n",
    "## This will reduce the amount of columns created using OneHotEncoding\n",
    "## For this specific case, using apply with math.trunc will work pretty well instead of a hand-made function, as for example, it will consider 4.25 bathrooms and 4.75 bathooms as the same\n",
    "## which is what I desire in this case"
   ]
  },
  {
   "cell_type": "code",
   "execution_count": 39,
   "id": "5b905b2c-059f-46dd-930d-9aed79f77a6e",
   "metadata": {},
   "outputs": [],
   "source": [
    "df['bathrooms'] = df['bathrooms'].apply(math.trunc)"
   ]
  },
  {
   "cell_type": "code",
   "execution_count": 40,
   "id": "8b10c4c2-4577-412e-8cd8-5017d0334f52",
   "metadata": {},
   "outputs": [
    {
     "data": {
      "text/plain": [
       "2    10478\n",
       "1     8243\n",
       "3     2217\n",
       "4      312\n",
       "Name: bathrooms, dtype: int64"
      ]
     },
     "execution_count": 40,
     "metadata": {},
     "output_type": "execute_result"
    }
   ],
   "source": [
    "df['bathrooms'].value_counts()"
   ]
  },
  {
   "cell_type": "code",
   "execution_count": 41,
   "id": "cda07965-9d8d-46f2-b9e2-c3d8c8a8eda8",
   "metadata": {},
   "outputs": [
    {
     "data": {
      "image/png": "[encoded data removed]",
      "text/plain": [
       "<Figure size 1080x360 with 1 Axes>"
      ]
     },
     "metadata": {
      "needs_background": "light"
     },
     "output_type": "display_data"
    }
   ],
   "source": [
    "fig, ax = plt.subplots(figsize=(15,5))\n",
    "ax = sns.barplot(x = 'condition' , y = 'price' , data = df_bar3)\n",
    "plt.ylabel('Average Price')\n",
    "plt.show()"
   ]
  },
  {
   "cell_type": "code",
   "execution_count": 42,
   "id": "aa0e2578-a8b6-4b8e-bc93-e06c29a4112a",
   "metadata": {},
   "outputs": [],
   "source": [
    "condition_percent = df['condition'].value_counts()/df.shape[0]*100\n",
    "\n",
    "condition_percent.values[0:3].sum()\n",
    "\n",
    "condition_percent_list = condition_percent.index[0:3].tolist()\n",
    "\n",
    "before_condition_filter = df.shape[0]\n",
    "\n",
    "df = df[df['condition'].isin(condition_percent_list)]\n",
    "\n",
    "after_condition_filter = df.shape[0]\n",
    "\n",
    "r_filter_condition = before_condition_filter - after_condition_filter"
   ]
  },
  {
   "cell_type": "code",
   "execution_count": 43,
   "id": "ce878890-8e88-4f3b-af4b-b6fadf95ab5a",
   "metadata": {},
   "outputs": [
    {
     "name": "stdout",
     "output_type": "stream",
     "text": [
      "We lost 184 rows\n"
     ]
    }
   ],
   "source": [
    "print('We lost',r_filter_condition,'rows')"
   ]
  },
  {
   "cell_type": "code",
   "execution_count": 44,
   "id": "1146ec88-8006-4d6d-94c3-de5adabe7cc7",
   "metadata": {},
   "outputs": [
    {
     "data": {
      "image/png": "[encoded data removed]",
      "text/plain": [
       "<Figure size 1080x360 with 1 Axes>"
      ]
     },
     "metadata": {
      "needs_background": "light"
     },
     "output_type": "display_data"
    }
   ],
   "source": [
    "fig, ax = plt.subplots(figsize=(15,5))\n",
    "ax = sns.barplot(x = 'grade' , y = 'price' , data = df_bar4)\n",
    "plt.ylabel('Average Price')\n",
    "plt.show()"
   ]
  },
  {
   "cell_type": "code",
   "execution_count": 45,
   "id": "52531a7a-51b8-4910-a255-38a207728c12",
   "metadata": {},
   "outputs": [],
   "source": [
    "grade_percent = df['grade'].value_counts()/df.shape[0]*100\n",
    "grade_percent.values[0:7].sum()\n",
    "grade_list = grade_percent.index[0:7].tolist()\n",
    "rows_before_grade_filter = df.shape[0]\n",
    "df = df[df['grade'].isin(grade_list)]\n",
    "rows_after_grade_filter = df.shape[0]\n",
    "r_filter_grade = rows_before_grade_filter-rows_after_grade_filter"
   ]
  },
  {
   "cell_type": "code",
   "execution_count": 46,
   "id": "38538d54-391a-420d-ac2e-363d951ecb18",
   "metadata": {},
   "outputs": [
    {
     "name": "stdout",
     "output_type": "stream",
     "text": [
      "We lost 85 rows\n"
     ]
    }
   ],
   "source": [
    "print('We lost',r_filter_grade,'rows')"
   ]
  },
  {
   "cell_type": "code",
   "execution_count": 47,
   "id": "5b0905bf-75fd-494f-97b7-e3258be3aa8b",
   "metadata": {},
   "outputs": [
    {
     "data": {
      "image/png": "[encoded data removed]",
      "text/plain": [
       "<Figure size 1080x360 with 1 Axes>"
      ]
     },
     "metadata": {
      "needs_background": "light"
     },
     "output_type": "display_data"
    }
   ],
   "source": [
    "fig, ax = plt.subplots(figsize=(15,5))\n",
    "ax = sns.barplot(x = 'floors' , y = 'price' , data = df_bar2)\n",
    "plt.ylabel('Average Price')\n",
    "plt.show()"
   ]
  },
  {
   "cell_type": "code",
   "execution_count": 48,
   "id": "459d670d-65ff-4181-b4f4-329e6e5ff194",
   "metadata": {},
   "outputs": [],
   "source": [
    "floors_percent = df['floors'].value_counts()/df.shape[0]*100\n",
    "floors_percent.values[0:5].sum()\n",
    "floors_filter = floors_percent.index[0:5].tolist()\n",
    "before_floors_filter = df.shape[0]\n",
    "df = df[df['floors'].isin(floors_filter)]\n",
    "after_floors_filter = df.shape[0]\n",
    "r_floors_filter = before_floors_filter - after_floors_filter"
   ]
  },
  {
   "cell_type": "code",
   "execution_count": 49,
   "id": "a9e7f32a-46b2-4c64-80da-e5a2ee907019",
   "metadata": {},
   "outputs": [
    {
     "name": "stdout",
     "output_type": "stream",
     "text": [
      "We lost 6 rows\n"
     ]
    }
   ],
   "source": [
    "print('We lost',r_floors_filter,'rows')"
   ]
  },
  {
   "cell_type": "code",
   "execution_count": 50,
   "id": "8f04de56-82f5-4973-8eae-a09f36953864",
   "metadata": {},
   "outputs": [
    {
     "data": {
      "image/png": "[encoded data removed]",
      "text/plain": [
       "<Figure size 1080x360 with 1 Axes>"
      ]
     },
     "metadata": {
      "needs_background": "light"
     },
     "output_type": "display_data"
    }
   ],
   "source": [
    "fig, ax = plt.subplots(figsize=(15,5))\n",
    "ax = sns.barplot(x = 'bedrooms' , y = 'price' , data = df_bar6)\n",
    "plt.ylabel('Average Price')\n",
    "plt.show()"
   ]
  },
  {
   "cell_type": "code",
   "execution_count": 51,
   "id": "5c12fb2f-7335-46e4-ab23-a95f1513ecee",
   "metadata": {},
   "outputs": [],
   "source": [
    "bedrooms_percent = df['bedrooms'].value_counts()/df.shape[0]*100\n",
    "bedrooms_percent.values[0:7].sum()\n",
    "bedroom_filter_list = bedrooms_percent.index[0:7]\n",
    "before_bedroom_filter = df.shape[0]\n",
    "df = df[df['bedrooms'].isin(bedroom_filter_list)]\n",
    "after_bedroom_filter = df.shape[0]\n",
    "r_filter_bedrooms = before_bedroom_filter -after_bedroom_filter"
   ]
  },
  {
   "cell_type": "code",
   "execution_count": 52,
   "id": "313a5972-513a-4862-9e37-5b7698968009",
   "metadata": {},
   "outputs": [
    {
     "name": "stdout",
     "output_type": "stream",
     "text": [
      "We lost 19 rows\n"
     ]
    }
   ],
   "source": [
    "print('We lost',r_filter_bedrooms,'rows')"
   ]
  },
  {
   "cell_type": "markdown",
   "id": "bcf84a6e-af86-4a16-9c2e-4efc89ca9b86",
   "metadata": {},
   "source": [
    "### Because the Average price of a house does not seem to be affected by the days since it was sold, I elected to drop this column"
   ]
  },
  {
   "cell_type": "code",
   "execution_count": 53,
   "id": "f6790cb8-72fc-453a-95cb-11bf92ac35ee",
   "metadata": {},
   "outputs": [
    {
     "data": {
      "image/png": "[encoded data removed]",
      "text/plain": [
       "<Figure size 1080x360 with 1 Axes>"
      ]
     },
     "metadata": {
      "needs_background": "light"
     },
     "output_type": "display_data"
    }
   ],
   "source": [
    "fig, ax = plt.subplots(figsize=(15,5))\n",
    "ax = sns.barplot(x = 'days_sold' , y = 'price' , data = df_bar5)\n",
    "plt.ylabel('Average Price')\n",
    "plt.show()\n",
    "df.drop(['days_sold'],axis = 1, inplace = True)"
   ]
  },
  {
   "cell_type": "markdown",
   "id": "5cc6d597-05eb-494e-952b-3104cd8f17d4",
   "metadata": {},
   "source": [
    "# # Due to our low r2 score, one major thing we can do is change what we once considered numercal data, into categorical data.\n",
    "### In the following code, we will cast some numerical columns which are in actuality, categorical in nature\n",
    "### This step was the most difficult, it isn't always straight-foward\n",
    "### A perfect example is bathrooms. Baring the fact they were binned, they were categorical in nature but they took on decimal values\n",
    "### It could be arugued that they are discrete, specific, countable values, they are just countable in .25 blocks"
   ]
  },
  {
   "cell_type": "code",
   "execution_count": 54,
   "id": "85352917-fc7f-4ddd-b892-0893e32b2812",
   "metadata": {},
   "outputs": [
    {
     "data": {
      "text/html": [
       "<div>\n",
       "<style scoped>\n",
       "    .dataframe tbody tr th:only-of-type {\n",
       "        vertical-align: middle;\n",
       "    }\n",
       "\n",
       "    .dataframe tbody tr th {\n",
       "        vertical-align: top;\n",
       "    }\n",
       "\n",
       "    .dataframe thead th {\n",
       "        text-align: right;\n",
       "    }\n",
       "</style>\n",
       "<table border=\"1\" class=\"dataframe\">\n",
       "  <thead>\n",
       "    <tr style=\"text-align: right;\">\n",
       "      <th></th>\n",
       "      <th>bedrooms</th>\n",
       "      <th>bathrooms</th>\n",
       "      <th>sqft_living</th>\n",
       "      <th>sqft_lot</th>\n",
       "      <th>floors</th>\n",
       "      <th>condition</th>\n",
       "      <th>grade</th>\n",
       "      <th>sqft_above</th>\n",
       "      <th>sqft_basement</th>\n",
       "      <th>age</th>\n",
       "      <th>lat</th>\n",
       "      <th>long</th>\n",
       "      <th>sqft_living15</th>\n",
       "      <th>sqft_lot15</th>\n",
       "      <th>price</th>\n",
       "    </tr>\n",
       "  </thead>\n",
       "  <tbody>\n",
       "    <tr>\n",
       "      <th>0</th>\n",
       "      <td>3</td>\n",
       "      <td>1</td>\n",
       "      <td>1180</td>\n",
       "      <td>5650</td>\n",
       "      <td>1.0</td>\n",
       "      <td>3</td>\n",
       "      <td>7</td>\n",
       "      <td>1180</td>\n",
       "      <td>0</td>\n",
       "      <td>60</td>\n",
       "      <td>47.5112</td>\n",
       "      <td>-122.257</td>\n",
       "      <td>1340</td>\n",
       "      <td>5650</td>\n",
       "      <td>221900</td>\n",
       "    </tr>\n",
       "    <tr>\n",
       "      <th>1</th>\n",
       "      <td>3</td>\n",
       "      <td>2</td>\n",
       "      <td>2570</td>\n",
       "      <td>7242</td>\n",
       "      <td>2.0</td>\n",
       "      <td>3</td>\n",
       "      <td>7</td>\n",
       "      <td>2170</td>\n",
       "      <td>400</td>\n",
       "      <td>64</td>\n",
       "      <td>47.7210</td>\n",
       "      <td>-122.319</td>\n",
       "      <td>1690</td>\n",
       "      <td>7639</td>\n",
       "      <td>538000</td>\n",
       "    </tr>\n",
       "    <tr>\n",
       "      <th>2</th>\n",
       "      <td>2</td>\n",
       "      <td>1</td>\n",
       "      <td>770</td>\n",
       "      <td>10000</td>\n",
       "      <td>1.0</td>\n",
       "      <td>3</td>\n",
       "      <td>6</td>\n",
       "      <td>770</td>\n",
       "      <td>0</td>\n",
       "      <td>82</td>\n",
       "      <td>47.7379</td>\n",
       "      <td>-122.233</td>\n",
       "      <td>2720</td>\n",
       "      <td>8062</td>\n",
       "      <td>180000</td>\n",
       "    </tr>\n",
       "    <tr>\n",
       "      <th>3</th>\n",
       "      <td>4</td>\n",
       "      <td>3</td>\n",
       "      <td>1960</td>\n",
       "      <td>5000</td>\n",
       "      <td>1.0</td>\n",
       "      <td>5</td>\n",
       "      <td>7</td>\n",
       "      <td>1050</td>\n",
       "      <td>910</td>\n",
       "      <td>50</td>\n",
       "      <td>47.5208</td>\n",
       "      <td>-122.393</td>\n",
       "      <td>1360</td>\n",
       "      <td>5000</td>\n",
       "      <td>604000</td>\n",
       "    </tr>\n",
       "    <tr>\n",
       "      <th>4</th>\n",
       "      <td>3</td>\n",
       "      <td>2</td>\n",
       "      <td>1680</td>\n",
       "      <td>8080</td>\n",
       "      <td>1.0</td>\n",
       "      <td>3</td>\n",
       "      <td>8</td>\n",
       "      <td>1680</td>\n",
       "      <td>0</td>\n",
       "      <td>28</td>\n",
       "      <td>47.6168</td>\n",
       "      <td>-122.045</td>\n",
       "      <td>1800</td>\n",
       "      <td>7503</td>\n",
       "      <td>510000</td>\n",
       "    </tr>\n",
       "  </tbody>\n",
       "</table>\n",
       "</div>"
      ],
      "text/plain": [
       "   bedrooms  bathrooms  sqft_living  sqft_lot  floors  condition  grade  \\\n",
       "0         3          1         1180      5650     1.0          3      7   \n",
       "1         3          2         2570      7242     2.0          3      7   \n",
       "2         2          1          770     10000     1.0          3      6   \n",
       "3         4          3         1960      5000     1.0          5      7   \n",
       "4         3          2         1680      8080     1.0          3      8   \n",
       "\n",
       "   sqft_above  sqft_basement  age      lat     long  sqft_living15  \\\n",
       "0        1180              0   60  47.5112 -122.257           1340   \n",
       "1        2170            400   64  47.7210 -122.319           1690   \n",
       "2         770              0   82  47.7379 -122.233           2720   \n",
       "3        1050            910   50  47.5208 -122.393           1360   \n",
       "4        1680              0   28  47.6168 -122.045           1800   \n",
       "\n",
       "   sqft_lot15   price  \n",
       "0        5650  221900  \n",
       "1        7639  538000  \n",
       "2        8062  180000  \n",
       "3        5000  604000  \n",
       "4        7503  510000  "
      ]
     },
     "execution_count": 54,
     "metadata": {},
     "output_type": "execute_result"
    }
   ],
   "source": [
    "df.head()"
   ]
  },
  {
   "cell_type": "code",
   "execution_count": 55,
   "id": "1581f5ba-f546-480a-8980-3666e87cf29b",
   "metadata": {},
   "outputs": [],
   "source": [
    "list_to_cast = ['bedrooms','bathrooms','floors','condition','grade'] # Casting these to cateogricals\n",
    "for c in list_to_cast:\n",
    "    df[c] = df[c].apply(str)"
   ]
  },
  {
   "cell_type": "code",
   "execution_count": 56,
   "id": "56477e19-58c7-4e9d-8e66-bdf8c8d41b95",
   "metadata": {},
   "outputs": [
    {
     "data": {
      "text/plain": [
       "bedrooms          object\n",
       "bathrooms         object\n",
       "sqft_living        int64\n",
       "sqft_lot           int64\n",
       "floors            object\n",
       "condition         object\n",
       "grade             object\n",
       "sqft_above         int64\n",
       "sqft_basement      int64\n",
       "age                int64\n",
       "lat              float64\n",
       "long             float64\n",
       "sqft_living15      int64\n",
       "sqft_lot15         int64\n",
       "price              int64\n",
       "dtype: object"
      ]
     },
     "execution_count": 56,
     "metadata": {},
     "output_type": "execute_result"
    }
   ],
   "source": [
    "df.dtypes # Did the previous code work?"
   ]
  },
  {
   "cell_type": "markdown",
   "id": "d4424125-b045-41fe-9528-d40935da5710",
   "metadata": {
    "tags": []
   },
   "source": [
    "### Our continous numercal data is very good, very close to normal. \n",
    "### at the moment, we will perform a log transformation on most of our numerical columns\n",
    "### Most of our data benefited from the transformation, except age, which we will see soon"
   ]
  },
  {
   "cell_type": "code",
   "execution_count": 57,
   "id": "f0ba8bd5-8495-42f7-9d97-14676e7730a1",
   "metadata": {},
   "outputs": [
    {
     "data": {
      "image/png": "[encoded data removed]",
      "text/plain": [
       "<Figure size 360x360 with 1 Axes>"
      ]
     },
     "metadata": {
      "needs_background": "light"
     },
     "output_type": "display_data"
    }
   ],
   "source": [
    "# log transformation for sqft_living works for postively skewed  data\n",
    "def log_trans(x):\n",
    "    x = np.log(x)\n",
    "    if np.isfinite(x):\n",
    "        return x\n",
    "    else:\n",
    "        return np.NAN\n",
    "\n",
    "df['sqft_living'] = df['sqft_living'].apply(log_trans)\n",
    "\n",
    "avg_age = df['sqft_living'].mean() # Find avg of age column\n",
    "df['sqft_living'] = df['sqft_living'].fillna(avg_age) # Replace nan values \n",
    "\n",
    "plt.figure\n",
    "sns.displot(df['sqft_living']) # NOTE: Very close to a boxcox transformation at .33 or lower\n",
    "plt.show()"
   ]
  },
  {
   "cell_type": "code",
   "execution_count": 58,
   "id": "37b46292-048f-4df2-aad0-9ffa8b970a72",
   "metadata": {},
   "outputs": [
    {
     "data": {
      "image/png": "[encoded data removed]",
      "text/plain": [
       "<Figure size 360x360 with 1 Axes>"
      ]
     },
     "metadata": {
      "needs_background": "light"
     },
     "output_type": "display_data"
    }
   ],
   "source": [
    "# log transformation for sqft_Lot works for postively skewed  data\n",
    "def log_trans(x):\n",
    "    x = np.log(x)\n",
    "    if np.isfinite(x):\n",
    "        return x\n",
    "    else:\n",
    "        return np.NAN\n",
    "\n",
    "df['sqft_lot'] = df['sqft_lot'].apply(log_trans)\n",
    "\n",
    "avg_age = df['sqft_lot'].mean() # Find avg of age column\n",
    "df['sqft_lot'] = df['sqft_lot'].fillna(avg_age) # Replace nan values \n",
    "\n",
    "plt.figure\n",
    "sns.displot(df['sqft_lot']) # NOTE: Very close to a boxcox transformation at .33 or lower\n",
    "plt.show()"
   ]
  },
  {
   "cell_type": "code",
   "execution_count": 59,
   "id": "8f79104d-7e53-4208-a4ab-02b0a6fa2f40",
   "metadata": {},
   "outputs": [
    {
     "data": {
      "image/png": "[encoded data removed]",
      "text/plain": [
       "<Figure size 360x360 with 1 Axes>"
      ]
     },
     "metadata": {
      "needs_background": "light"
     },
     "output_type": "display_data"
    }
   ],
   "source": [
    "# log transformation for sqft_above\n",
    "def log_trans(x):\n",
    "    x = np.log(x)\n",
    "    if np.isfinite(x):\n",
    "        return x\n",
    "    else:\n",
    "        return np.NAN\n",
    "\n",
    "df['sqft_above'] = df['sqft_above'].apply(log_trans)\n",
    "\n",
    "avg_age = df['sqft_above'].mean() # Find avg of age column\n",
    "df['sqft_above'] = df['sqft_above'].fillna(avg_age) # Replace nan values \n",
    "\n",
    "plt.figure\n",
    "sns.displot(df['sqft_above']) # NOTE: Very close to a boxcox transformation at .33 or lower\n",
    "plt.show()"
   ]
  },
  {
   "cell_type": "code",
   "execution_count": 60,
   "id": "f0fc449a-c5fa-472f-8d68-c5f6a57f11e0",
   "metadata": {},
   "outputs": [
    {
     "data": {
      "image/png": "[encoded data removed]",
      "text/plain": [
       "<Figure size 360x360 with 1 Axes>"
      ]
     },
     "metadata": {
      "needs_background": "light"
     },
     "output_type": "display_data"
    }
   ],
   "source": [
    "# log transformation for sqft_above\n",
    "def log_trans(x):\n",
    "    x = np.log(x)\n",
    "    if np.isfinite(x):\n",
    "        return x\n",
    "    else:\n",
    "        return np.NAN\n",
    "\n",
    "df['sqft_living15'] = df['sqft_living15'].apply(log_trans)\n",
    "\n",
    "avg_age = df['sqft_living15'].mean() # Find avg of age column\n",
    "df['sqft_living15'] = df['sqft_living15'].fillna(avg_age) # Replace nan values \n",
    "\n",
    "plt.figure\n",
    "sns.displot(df['sqft_living15']) # NOTE: Very close to a boxcox transformation at .33 or lower\n",
    "plt.show()"
   ]
  },
  {
   "cell_type": "code",
   "execution_count": 61,
   "id": "856630c3-5899-436a-a1a8-37df9d650bcf",
   "metadata": {},
   "outputs": [
    {
     "data": {
      "image/png": "[encoded data removed]",
      "text/plain": [
       "<Figure size 360x360 with 1 Axes>"
      ]
     },
     "metadata": {
      "needs_background": "light"
     },
     "output_type": "display_data"
    }
   ],
   "source": [
    "# log transformation for price\n",
    "def log_trans(x):\n",
    "    x = np.log(x)\n",
    "    if np.isfinite(x):\n",
    "        return x\n",
    "    else:\n",
    "        return np.NAN\n",
    "\n",
    "df['price'] = df['price'].apply(log_trans)\n",
    "\n",
    "avg_age = df['price'].mean() # Find avg of age column\n",
    "df['price'] = df['price'].fillna(avg_age) # Replace nan values \n",
    "\n",
    "plt.figure\n",
    "sns.displot(df['price']) # NOTE: Very close to a boxcox transformation at .33 or lower\n",
    "plt.show()"
   ]
  },
  {
   "cell_type": "markdown",
   "id": "1824515f-a018-451e-b2e7-a4ded3b8dcd1",
   "metadata": {},
   "source": [
    "# Boxcox Transformation for age\n",
    "## NOTE: I decided to perform a boxcox transformation, which required me to removed all zeros from my data, which in reality, removes houses built in the year 2015"
   ]
  },
  {
   "cell_type": "code",
   "execution_count": 62,
   "id": "0c416bee-5de4-4604-9f83-963a96d7750e",
   "metadata": {},
   "outputs": [
    {
     "name": "stdout",
     "output_type": "stream",
     "text": [
      "Amount of rows with an age of zero, meaning they were built in the year 2015: 38\n"
     ]
    }
   ],
   "source": [
    "print('Amount of rows with an age of zero, meaning they were built in the year 2015:',df[df['age'] == 0].shape[0])"
   ]
  },
  {
   "cell_type": "code",
   "execution_count": 63,
   "id": "81cf8d7f-7f29-4053-a038-6bc56012d81d",
   "metadata": {},
   "outputs": [
    {
     "name": "stdout",
     "output_type": "stream",
     "text": [
      "We lost this many rows after clearing out zeros for our boxcox transformation: 38\n",
      "Current Size: 20918\n"
     ]
    },
    {
     "data": {
      "image/png": "[encoded data removed]",
      "text/plain": [
       "<Figure size 360x360 with 1 Axes>"
      ]
     },
     "metadata": {
      "needs_background": "light"
     },
     "output_type": "display_data"
    }
   ],
   "source": [
    "rows_before_boxcox = df.shape[0]\n",
    "\n",
    "df = df[df['age'] != 0]  # Remove house with age of 0\n",
    "\n",
    "rows_after_boxcox = df.shape[0] # Row check\n",
    "\n",
    "bx_array = df['age'].to_numpy() # Turn our dataframe into a column\n",
    "\n",
    "values, counts = np.unique(bx_array, return_counts = True) #unpack values and count of values\n",
    "\n",
    "np.asarray([values, counts]).T #Pseudo value_counts() \n",
    "\n",
    "lmax_pearsonr = stats.boxcox_normmax(bx_array) #Optimum value for lambda in our boxcox transformation\n",
    "\n",
    "test_cox = stats.boxcox(bx_array, lmbda = lmax_pearsonr) # Transformation\n",
    "\n",
    "df['age'] = pd.Series(test_cox) #cast to series\n",
    "\n",
    "df['age'].shape #Quick shape check\n",
    "\n",
    "avg_age = df['age'].mean() # Find avg of age column\n",
    "df['age'] = df['age'].fillna(avg_age) # Replace nan values \n",
    "\n",
    "# Rows lost and current size, along with a distribution of our new data. \n",
    "# Not perfect, but way better that what we saw above ✓\n",
    "print('We lost this many rows after clearing out zeros for our boxcox transformation:', rows_before_boxcox-rows_after_boxcox)\n",
    "print('Current Size:', rows_after_boxcox)\n",
    "rows_lost_boxcox = rows_before_boxcox-rows_after_boxcox\n",
    "plt.figure\n",
    "sns.displot(df['age'])\n",
    "plt.show()"
   ]
  },
  {
   "cell_type": "markdown",
   "id": "9cc660b4-d1f1-47a9-85c4-486c5b52cfaf",
   "metadata": {},
   "source": [
    "# Boxplot analyis, as a general check to see what data needs outlier removal"
   ]
  },
  {
   "cell_type": "code",
   "execution_count": 64,
   "id": "f59e08d6-b65f-465b-b4c8-e2d055ac954f",
   "metadata": {},
   "outputs": [],
   "source": [
    "box_list =df.loc[:, ~df.columns.isin(['zipcode','grade','condition','bedrooms', 'bathrooms', 'date', 'floors','age','lat'])].columns.tolist() #List of columns to make a boxplot of"
   ]
  },
  {
   "cell_type": "code",
   "execution_count": 65,
   "id": "258fb171-514d-4f9e-96b0-68ae6e4c21b8",
   "metadata": {},
   "outputs": [
    {
     "data": {
      "image/png": "[encoded data removed]",
      "text/plain": [
       "<Figure size 432x288 with 1 Axes>"
      ]
     },
     "metadata": {
      "needs_background": "light"
     },
     "output_type": "display_data"
    },
    {
     "data": {
      "image/png": "[encoded data removed]",
      "text/plain": [
       "<Figure size 432x288 with 1 Axes>"
      ]
     },
     "metadata": {
      "needs_background": "light"
     },
     "output_type": "display_data"
    },
    {
     "data": {
      "image/png": "[encoded data removed]",
      "text/plain": [
       "<Figure size 432x288 with 1 Axes>"
      ]
     },
     "metadata": {
      "needs_background": "light"
     },
     "output_type": "display_data"
    },
    {
     "data": {
      "image/png": "[encoded data removed]",
      "text/plain": [
       "<Figure size 432x288 with 1 Axes>"
      ]
     },
     "metadata": {
      "needs_background": "light"
     },
     "output_type": "display_data"
    },
    {
     "data": {
      "image/png": "[encoded data removed]",
      "text/plain": [
       "<Figure size 432x288 with 1 Axes>"
      ]
     },
     "metadata": {
      "needs_background": "light"
     },
     "output_type": "display_data"
    },
    {
     "data": {
      "image/png": "[encoded data removed]",
      "text/plain": [
       "<Figure size 432x288 with 1 Axes>"
      ]
     },
     "metadata": {
      "needs_background": "light"
     },
     "output_type": "display_data"
    },
    {
     "data": {
      "image/png": "[encoded data removed]",
      "text/plain": [
       "<Figure size 432x288 with 1 Axes>"
      ]
     },
     "metadata": {
      "needs_background": "light"
     },
     "output_type": "display_data"
    },
    {
     "data": {
      "image/png": "[encoded data removed]",
      "text/plain": [
       "<Figure size 432x288 with 1 Axes>"
      ]
     },
     "metadata": {
      "needs_background": "light"
     },
     "output_type": "display_data"
    }
   ],
   "source": [
    "for i in box_list:\n",
    "    plt.figure\n",
    "    sns.boxplot(x = df[i])\n",
    "    plt.show()"
   ]
  },
  {
   "cell_type": "markdown",
   "id": "5c0db2f7-7091-4534-b367-8ff23208dfdb",
   "metadata": {},
   "source": [
    "# Outlier Removal \n",
    "## The following Code is the general removal of outliers. \n",
    "## In general, i try not to remove more than 8% of my data\n",
    "## I used a custom function to cut outliers, given a constant for upper and lower limits, and plots the graph\n",
    "## Towards the end, we add up all lost rows to get a total count of all the rows we lost, duplicates not withstanding"
   ]
  },
  {
   "cell_type": "code",
   "execution_count": 66,
   "id": "8333db0e-7a8c-4d80-bbc6-3cc1eb407b61",
   "metadata": {
    "tags": []
   },
   "outputs": [],
   "source": [
    "\n",
    "total_lost = 0\n",
    "def outlier(data, i, l = 1.5, u = 1.5):\n",
    "    iqr = np.percentile(data[i], 75) - np.percentile(data[i], 25)\n",
    "    lower_limit = np.percentile(data[i], 25) - l*iqr\n",
    "    upper_limit = np.percentile(data[i], 75) + u*iqr\n",
    "    data_chop = data[(data[i] > lower_limit) & (data[i] < upper_limit)]\n",
    "    lost_rows = data.shape[0] - data_chop.shape[0]\n",
    "    data = data_chop\n",
    "    print(lost_rows)\n",
    "    plt.figure\n",
    "    sns.displot(data[i])\n",
    "    plt.show\n",
    "    return data, lost_rows"
   ]
  },
  {
   "cell_type": "code",
   "execution_count": 67,
   "id": "fdb4e28c-6495-4606-bf0c-8e21ba4adf8f",
   "metadata": {},
   "outputs": [],
   "source": [
    "rows_before_outliers_removed = df.shape[0]"
   ]
  },
  {
   "cell_type": "code",
   "execution_count": 68,
   "id": "82276ac2-4aec-454a-bfe1-079ae85a7f89",
   "metadata": {},
   "outputs": [
    {
     "name": "stdout",
     "output_type": "stream",
     "text": [
      "96\n"
     ]
    },
    {
     "data": {
      "image/png": "[encoded data removed]",
      "text/plain": [
       "<Figure size 360x360 with 1 Axes>"
      ]
     },
     "metadata": {
      "needs_background": "light"
     },
     "output_type": "display_data"
    }
   ],
   "source": [
    "df, lost = outlier(df,'sqft_living', u = 1.3)"
   ]
  },
  {
   "cell_type": "code",
   "execution_count": 69,
   "id": "95c97aa0-9c7b-40c5-8182-fe8ff8cab137",
   "metadata": {},
   "outputs": [],
   "source": [
    "# df,lost_rows2 = outlier(df,'sqft_lot', u = 5) # Too many Rows lost, hold of for now"
   ]
  },
  {
   "cell_type": "code",
   "execution_count": 70,
   "id": "fc9f3f1a-d509-46db-b571-00566f8d6ca4",
   "metadata": {},
   "outputs": [
    {
     "name": "stdout",
     "output_type": "stream",
     "text": [
      "66\n"
     ]
    },
    {
     "data": {
      "image/png": "[encoded data removed]",
      "text/plain": [
       "<Figure size 360x360 with 1 Axes>"
      ]
     },
     "metadata": {
      "needs_background": "light"
     },
     "output_type": "display_data"
    }
   ],
   "source": [
    "df, lost_3 = outlier(df,'sqft_above', l =1.2,u =1.2)"
   ]
  },
  {
   "cell_type": "code",
   "execution_count": 71,
   "id": "cd7acc52-8e20-421f-839d-424baec16412",
   "metadata": {},
   "outputs": [
    {
     "name": "stdout",
     "output_type": "stream",
     "text": [
      "261\n"
     ]
    },
    {
     "data": {
      "image/png": "[encoded data removed]",
      "text/plain": [
       "<Figure size 360x360 with 1 Axes>"
      ]
     },
     "metadata": {
      "needs_background": "light"
     },
     "output_type": "display_data"
    }
   ],
   "source": [
    "df , lost_4 =outlier(df,'sqft_basement', u =1.7)"
   ]
  },
  {
   "cell_type": "code",
   "execution_count": 72,
   "id": "72c3f567-1f2e-401f-bad4-485202d66ec3",
   "metadata": {},
   "outputs": [
    {
     "name": "stdout",
     "output_type": "stream",
     "text": [
      "240\n"
     ]
    },
    {
     "data": {
      "image/png": "[encoded data removed]",
      "text/plain": [
       "<Figure size 360x360 with 1 Axes>"
      ]
     },
     "metadata": {
      "needs_background": "light"
     },
     "output_type": "display_data"
    }
   ],
   "source": [
    "df, lost_5 = outlier(df,'long')"
   ]
  },
  {
   "cell_type": "code",
   "execution_count": 73,
   "id": "bce17469-7b16-46e3-9a4c-add81c4934d6",
   "metadata": {},
   "outputs": [
    {
     "name": "stdout",
     "output_type": "stream",
     "text": [
      "51\n"
     ]
    },
    {
     "data": {
      "image/png": "[encoded data removed]",
      "text/plain": [
       "<Figure size 360x360 with 1 Axes>"
      ]
     },
     "metadata": {
      "needs_background": "light"
     },
     "output_type": "display_data"
    }
   ],
   "source": [
    "df, lost_6 = outlier(df,'sqft_living15')"
   ]
  },
  {
   "cell_type": "code",
   "execution_count": 74,
   "id": "923ab821-12cf-4fa8-9477-c2f2bf16e7c3",
   "metadata": {},
   "outputs": [],
   "source": [
    "# df, lost_7 = outlier(df,'sqft_lot15')"
   ]
  },
  {
   "cell_type": "code",
   "execution_count": 75,
   "id": "5b683698-eff0-4cd1-80dd-74d765f5f9dc",
   "metadata": {},
   "outputs": [
    {
     "name": "stdout",
     "output_type": "stream",
     "text": [
      "216\n"
     ]
    },
    {
     "data": {
      "image/png": "[encoded data removed]",
      "text/plain": [
       "<Figure size 360x360 with 1 Axes>"
      ]
     },
     "metadata": {
      "needs_background": "light"
     },
     "output_type": "display_data"
    }
   ],
   "source": [
    "df, lost_8 = outlier(df,'price')"
   ]
  },
  {
   "cell_type": "code",
   "execution_count": 76,
   "id": "96c10c73-a5a0-48ad-903a-1183bd6af9f5",
   "metadata": {},
   "outputs": [],
   "source": [
    "# Lets sum up the total amount of rows lost, to get a percentage of rows lost\n",
    "rows_out_lost = lost+lost_3+lost_4+lost_5+lost_6+lost_8+r_filter_bathroom+r_filter_condition+r_filter_grade+r_filter_bedrooms+r_floors_filter+rows_lost_boxcox "
   ]
  },
  {
   "cell_type": "code",
   "execution_count": 77,
   "id": "5913adfb-71ef-415f-b8e6-1fbe9b0d7f89",
   "metadata": {},
   "outputs": [],
   "source": [
    "df.reset_index(inplace = True, drop = True) #Reset Index"
   ]
  },
  {
   "cell_type": "code",
   "execution_count": 78,
   "id": "a2267e13-5804-455e-91e5-04bb30d98bfd",
   "metadata": {},
   "outputs": [
    {
     "name": "stdout",
     "output_type": "stream",
     "text": [
      "We lost a total of 1432 which is 6.85 % of our data\n"
     ]
    }
   ],
   "source": [
    "print('We lost a total of', rows_out_lost, 'which is', round(rows_out_lost/rows_before_outliers_removed*100, 2) ,'% of our data')"
   ]
  },
  {
   "cell_type": "code",
   "execution_count": 79,
   "id": "2814a4d1-ec5d-48d6-a0e4-52de5f692dc5",
   "metadata": {},
   "outputs": [
    {
     "data": {
      "text/plain": [
       "19988"
      ]
     },
     "execution_count": 79,
     "metadata": {},
     "output_type": "execute_result"
    }
   ],
   "source": [
    "df.shape[0] #Current Rows "
   ]
  },
  {
   "cell_type": "markdown",
   "id": "aa46f9e9-7c92-4433-b754-57c1352194c0",
   "metadata": {},
   "source": [
    "# Normalizing our data\n",
    "# First I separate my Target, then Cast my numerical and categorical columns to different dataframes to tranform them each one."
   ]
  },
  {
   "cell_type": "code",
   "execution_count": 80,
   "id": "ad10611a-860f-42f5-9511-c298ef3d41ac",
   "metadata": {},
   "outputs": [
    {
     "data": {
      "text/plain": [
       "(19988, 15)"
      ]
     },
     "execution_count": 80,
     "metadata": {},
     "output_type": "execute_result"
    }
   ],
   "source": [
    "df.shape #Recheck of shape"
   ]
  },
  {
   "cell_type": "code",
   "execution_count": 81,
   "id": "49ee621c-2f23-481d-9a65-b84a38dfb015",
   "metadata": {},
   "outputs": [],
   "source": [
    "# Removing the Target from the Column\n",
    "Y = df['price']\n",
    "df.drop(['price'], inplace = True, axis = 1)"
   ]
  },
  {
   "cell_type": "code",
   "execution_count": 82,
   "id": "c95913f4-7cf1-4e9c-9691-66099dc6d2de",
   "metadata": {},
   "outputs": [
    {
     "data": {
      "text/plain": [
       "(19988, 14)"
      ]
     },
     "execution_count": 82,
     "metadata": {},
     "output_type": "execute_result"
    }
   ],
   "source": [
    "df.shape"
   ]
  },
  {
   "cell_type": "code",
   "execution_count": 83,
   "id": "afdc6ad0-e663-4aba-80b5-605d03263d4c",
   "metadata": {},
   "outputs": [],
   "source": [
    "# Numerical Data \n",
    "X_num = df.select_dtypes(np.number) "
   ]
  },
  {
   "cell_type": "code",
   "execution_count": 84,
   "id": "8725b5ff-b10f-4f58-b1a5-4c18e7d9a77e",
   "metadata": {},
   "outputs": [],
   "source": [
    "# Categorical Data\n",
    "X_cat = df.select_dtypes(object)"
   ]
  },
  {
   "cell_type": "code",
   "execution_count": 85,
   "id": "6b98ca21-a27d-401a-b7f5-f523fd78bb96",
   "metadata": {},
   "outputs": [],
   "source": [
    "#Function to choose and select which way we should transform our data\n",
    "#This includes:\n",
    "\n",
    "def transform_data(x_num_data, t = 'norm'):\n",
    "    if t == 'norm':\n",
    "        transformer = Normalizer().fit(X_num) #Normalizer\n",
    "        x_trans = transformer.transform(X_num)\n",
    "    elif t == 'stand':\n",
    "        transformer = StandardScaler().fit(X_num) #Standard Scaler\n",
    "        x_trans = transformer.transform(X_num)\n",
    "    elif t == 'mm':\n",
    "        transformer = MinMaxScaler().fit(X_num) #Min/Max Scaler\n",
    "        x_trans = transformer.transform(X_num)   \n",
    "    elif t == 'ma':\n",
    "        transformer = MaxAbsScaler().fit(X_num) #Max Absolute Scaler\n",
    "        x_trans = transformer.transform(X_num)\n",
    "    else:\n",
    "        pass\n",
    "    return x_trans"
   ]
  },
  {
   "cell_type": "markdown",
   "id": "768f1835-c6bf-4a84-b284-9cd5931a67bf",
   "metadata": {},
   "source": [
    "# Linear Regression Model Choices\n",
    "## Should you choose to see our linear model outcomes, run the following block of code\n",
    "## Should you want to see the results of our K-Nearest Neighboor model, see next markdown block"
   ]
  },
  {
   "cell_type": "markdown",
   "id": "6a933f82-f013-4fc8-a27c-6bb861ccbb0e",
   "metadata": {},
   "source": [
    "# A for loop to return every r2, mse, mae, and adjusted_r2 score for each numercal transformation and graph\n",
    "x_trans_1 = transform_data(X_num, t = 'norm')\n",
    "x_trans_2 = transform_data(X_num, t = 'stand')\n",
    "x_trans_3 = transform_data(X_num, t = 'mm')\n",
    "x_trans_4 = transform_data(X_num, t = 'ma')\n",
    "\n",
    "X_list = [x_trans_1,x_trans_2,x_trans_3,x_trans_4]\n",
    "# OneHotEncode our Categorical Data\n",
    "encoder = OneHotEncoder().fit(X_cat)\n",
    "encoded = encoder.transform(X_cat).toarray()\n",
    "\n",
    "# Turn our array into a dataframe\n",
    "r2_info = []\n",
    "mse_info = []\n",
    "mae_info = []\n",
    "adjr2_info = []\n",
    "# A for loop to append a list of measures of error for each \n",
    "# BIG NOTE: The order in which each transformation was applied was the following\n",
    "# Normalizer, StandardScaler, MinMaxScaler, and finally MaxAbsScaler\n",
    "for i in X_list:\n",
    "    X = np.concatenate((i,encoded), axis= 1)\n",
    "    X.shape\n",
    "    x_train, x_test, y_train, y_test = train_test_split(X,Y,test_size=.20,random_state=100)\n",
    "    lm = LinearRegression().fit(x_train,y_train)\n",
    "    predictions = lm.predict(x_test)\n",
    "    r2 = r2_score(y_test, predictions)\n",
    "    mse = mean_squared_error(y_test, predictions)\n",
    "    mae = mean_absolute_error(y_test, predictions)\n",
    "    n = len(x_test) \n",
    "    p = x_test.shape[1]\n",
    "    adj_r2 = 1-((1-r2)*(n-1)/(n-p-1))\n",
    "    adj_r2 # Penalty for adj_r2\n",
    "    \n",
    "    r2_info.append(r2)\n",
    "    mse_info.append(mse)\n",
    "    mae_info.append(mae)\n",
    "    adjr2_info.append(adj_r2)\n",
    "\n",
    "# A Grouped Bar Graph to Compare the different measures of error.\n",
    "w = 0.2\n",
    "names = ['Normalizer','StandardScaler','Min/Max','MaxAbsolute']\n",
    "\n",
    "bar1 = np.arange(len(names))\n",
    "bar2 = [i+w for i in bar1]\n",
    "bar3 = [i+w for i in bar2]\n",
    "bar4 = [i+w for i in bar3]\n",
    "\n",
    "plt.figure(figsize = (16,8))\n",
    "\n",
    "r2_container = plt.bar(bar1,r2_info,w,label = 'r2 score')\n",
    "mse_container = plt.bar(bar2,mse_info,w,label = 'mse score')\n",
    "mae_container = plt.bar(bar3,mae_info,w,label = 'mae score')\n",
    "adjr2_container = plt.bar(bar4,adjr2_info,w,label = 'adj r2 score')\n",
    "\n",
    "perfect_bar = [i+(w/2) for i in bar2]\n",
    "\n",
    "plt.bar_label(r2_container)\n",
    "plt.bar_label(mse_container)\n",
    "plt.bar_label(mae_container)\n",
    "plt.bar_label(adjr2_container)\n",
    "\n",
    "\n",
    "plt.xlabel('Different Transformations')\n",
    "plt.ylabel('Score Amount')\n",
    "plt.title('Comparison of Different Transformations and Our Measures of Error')\n",
    "plt.xticks(perfect_bar,names)\n",
    "plt.legend()\n",
    "plt.tight_layout()\n",
    "plt.show()"
   ]
  },
  {
   "cell_type": "markdown",
   "id": "7b1764ec-cf21-4baa-ac07-f046bfed58aa",
   "metadata": {},
   "source": [
    "# KNN Model, and we will use adjusted R-Squared as our measure of error\n",
    "# Run the following block of code to see the outcomes of our K-Nearest Neighboors Model, from K values, 1 to 50"
   ]
  },
  {
   "cell_type": "code",
   "execution_count": 86,
   "id": "022f38ea-050d-4e1e-b9e9-18750d692d35",
   "metadata": {},
   "outputs": [
    {
     "name": "stdout",
     "output_type": "stream",
     "text": [
      "adjr2_norm\n",
      "Max Score: 0.4966131600298642\n",
      "For K Value: 33\n",
      "adjr2_stand\n",
      "Max Score: 0.7768733041123571\n",
      "For K Value: 15\n",
      "adjr2_mm\n",
      "Max Score: 0.7208921935359539\n",
      "For K Value: 7\n",
      "adjr2_ma\n",
      "Max Score: 0.49056643576251713\n",
      "For K Value: 14\n"
     ]
    },
    {
     "data": {
      "image/png": "[encoded data removed]",
      "text/plain": [
       "<Figure size 504x360 with 1 Axes>"
      ]
     },
     "metadata": {
      "needs_background": "light"
     },
     "output_type": "display_data"
    },
    {
     "data": {
      "image/png": "[encoded data removed]",
      "text/plain": [
       "<Figure size 504x360 with 1 Axes>"
      ]
     },
     "metadata": {
      "needs_background": "light"
     },
     "output_type": "display_data"
    },
    {
     "data": {
      "image/png": "[encoded data removed]",
      "text/plain": [
       "<Figure size 504x360 with 1 Axes>"
      ]
     },
     "metadata": {
      "needs_background": "light"
     },
     "output_type": "display_data"
    },
    {
     "data": {
      "image/png": "[encoded data removed]",
      "text/plain": [
       "<Figure size 504x360 with 1 Axes>"
      ]
     },
     "metadata": {
      "needs_background": "light"
     },
     "output_type": "display_data"
    }
   ],
   "source": [
    "# Same as before, we will produce our arrays from our 4 different types of transformations\n",
    "x_trans_1 = transform_data(X_num, t = 'norm')\n",
    "x_trans_2 = transform_data(X_num, t = 'stand')\n",
    "x_trans_3 = transform_data(X_num, t = 'mm')\n",
    "x_trans_4 = transform_data(X_num, t = 'ma')\n",
    "\n",
    "X_list = [x_trans_1,x_trans_2,x_trans_3,x_trans_4]\n",
    "# OneHotEncode our Categorical Data\n",
    "encoder = OneHotEncoder().fit(X_cat)\n",
    "encoded = encoder.transform(X_cat).toarray()\n",
    "\n",
    "#Next, we will create some empty lists to append later\n",
    "adjr2_norm = []\n",
    "adjr2_stand = []\n",
    "adjr2_mm = []\n",
    "adjr2_ma = []\n",
    "\n",
    "\n",
    "\n",
    "testing = 50 #Modify this to test any amount of K-Values you want\n",
    "\n",
    "k_values = [i for i in range(testing)] #List of nearest_neighboors values we want to predict\n",
    "k_values.pop(0) #Popping zero, since we can't use it\n",
    "\n",
    "# A for loop to append a list of measures of error for each \n",
    "for i in X_list:\n",
    "    for j in k_values:\n",
    "        current_array = i #Declaring the current array we are using for comparsion later\n",
    "        X = np.concatenate((i,encoded), axis= 1)\n",
    "        X.shape\n",
    "        x_train, x_test, y_train, y_test = train_test_split(X,Y,test_size=.20,random_state=100) #Train test split\n",
    "        km = KNeighborsRegressor(n_neighbors= j)\n",
    "        km.fit(x_train, y_train) #training our model\n",
    "        predictions = km.predict(x_test) #declare predictions\n",
    "        r2 = r2_score(y_test, predictions)\n",
    "        n = len(x_test) \n",
    "        p = x_test.shape[1]\n",
    "        adj_r2 = 1-((1-r2)*(n-1)/(n-p-1)) # How to calculate adjusted R^2\n",
    "        adj_r2 # Penalty for adj_r2\n",
    "        \n",
    "        # We compare the current array to the list of arrays we have. \n",
    "        # for example, if the currenty array matches the first array of our list, thats the signal to append the current list of adjusted R-squared values for each value of K, to each list\n",
    "        # We will plot these points later\n",
    "        \n",
    "        if (current_array == X_list[0]).all() == True:\n",
    "            adjr2_norm.append(adj_r2)\n",
    "        elif (current_array == X_list[1]).all() == True:\n",
    "            adjr2_stand.append(adj_r2)\n",
    "        elif (current_array == X_list[2]).all() == True:\n",
    "            adjr2_mm.append(adj_r2)\n",
    "        elif (current_array == X_list[3]).all() == True:\n",
    "            adjr2_ma.append(adj_r2)\n",
    "        else:\n",
    "            pass\n",
    "        \n",
    "        scores = [adjr2_norm, adjr2_stand, adjr2_mm,adjr2_ma] #List of lists of adjusted R-Squared values, \n",
    "        y_axis_labels = ['adjr2_norm', 'adjr2_stand', 'adjr2_mm','adjr2_ma'] #List of names for convenience\n",
    "            \n",
    "    \n",
    "\n",
    "for i in range(4):\n",
    "    #Find our Max X and Y coordinates\n",
    "    y_max = max(scores[i])\n",
    "    x_pos = scores[i].index(y_max)\n",
    "    x_max = k_values[x_pos]\n",
    "    x_max\n",
    "    plt.figure(figsize = (7,5))\n",
    "    plt.plot(k_values,scores[i], color = 'black', linestyle = 'solid', marker = 'o', markerfacecolor = 'red', markersize = 7)\n",
    "    plt.xlabel('K Values')\n",
    "    plt.ylabel(y_axis_labels[i])\n",
    "    plt.annotate(round(y_max,4), xy=(x_max, y_max), xytext=(x_max, y_max+.03),\n",
    "            arrowprops=dict(facecolor='black', shrink=0.05),\n",
    "            )\n",
    "    plt.title(print(y_axis_labels[i]),\n",
    "              print('Max Score:',y_max),\n",
    "              print('For K Value:',x_max))"
   ]
  },
  {
   "cell_type": "code",
   "execution_count": 87,
   "id": "f142477b-67dd-42fc-ba20-866747b83b61",
   "metadata": {},
   "outputs": [
    {
     "data": {
      "text/plain": [
       "[0.6278042184202273,\n",
       " 0.7168430859898522,\n",
       " 0.7406585986217049,\n",
       " 0.7565455388010283,\n",
       " 0.7634569395466557,\n",
       " 0.766302893631635,\n",
       " 0.7700831810563464,\n",
       " 0.7711483544913441,\n",
       " 0.7726582785390899,\n",
       " 0.7729586269007446,\n",
       " 0.7747088041731562,\n",
       " 0.7761372895665885,\n",
       " 0.7755071782715718,\n",
       " 0.7761346329849776,\n",
       " 0.7768733041123571,\n",
       " 0.7761844553909977,\n",
       " 0.7762100576892659,\n",
       " 0.7759139319851048,\n",
       " 0.775844517935189,\n",
       " 0.7757392202674185,\n",
       " 0.7756404634432255,\n",
       " 0.7757563227436711,\n",
       " 0.7754906823662728,\n",
       " 0.7751699182605807,\n",
       " 0.7741836736153219,\n",
       " 0.7745253536546872,\n",
       " 0.7741401517135291,\n",
       " 0.7738337134006626,\n",
       " 0.7734010475192054,\n",
       " 0.7731273108292677,\n",
       " 0.772675752904529,\n",
       " 0.7726227118157551,\n",
       " 0.7723049303948051,\n",
       " 0.7721380390243193,\n",
       " 0.7714841542207711,\n",
       " 0.7710216955612221,\n",
       " 0.7709041490414389,\n",
       " 0.770484303055732,\n",
       " 0.7699572796392082,\n",
       " 0.7694896582683155,\n",
       " 0.7689992780979483,\n",
       " 0.7682965215994549,\n",
       " 0.7678328086374286,\n",
       " 0.7675672327949012,\n",
       " 0.7673443892749852,\n",
       " 0.7666751677410371,\n",
       " 0.7667524803112276,\n",
       " 0.7667081163900437,\n",
       " 0.7660459977874784]"
      ]
     },
     "execution_count": 87,
     "metadata": {},
     "output_type": "execute_result"
    }
   ],
   "source": [
    "adjr2_stand"
   ]
  },
  {
   "cell_type": "code",
   "execution_count": 88,
   "id": "9f458753-ca8a-42fc-a2bc-f99c39b359bf",
   "metadata": {},
   "outputs": [
    {
     "data": {
      "text/plain": [
       "[1,\n",
       " 2,\n",
       " 3,\n",
       " 4,\n",
       " 5,\n",
       " 6,\n",
       " 7,\n",
       " 8,\n",
       " 9,\n",
       " 10,\n",
       " 11,\n",
       " 12,\n",
       " 13,\n",
       " 14,\n",
       " 15,\n",
       " 16,\n",
       " 17,\n",
       " 18,\n",
       " 19,\n",
       " 20,\n",
       " 21,\n",
       " 22,\n",
       " 23,\n",
       " 24,\n",
       " 25,\n",
       " 26,\n",
       " 27,\n",
       " 28,\n",
       " 29,\n",
       " 30,\n",
       " 31,\n",
       " 32,\n",
       " 33,\n",
       " 34,\n",
       " 35,\n",
       " 36,\n",
       " 37,\n",
       " 38,\n",
       " 39,\n",
       " 40,\n",
       " 41,\n",
       " 42,\n",
       " 43,\n",
       " 44,\n",
       " 45,\n",
       " 46,\n",
       " 47,\n",
       " 48,\n",
       " 49]"
      ]
     },
     "execution_count": 88,
     "metadata": {},
     "output_type": "execute_result"
    }
   ],
   "source": [
    "k_values"
   ]
  },
  {
   "cell_type": "code",
   "execution_count": null,
   "id": "a5a6cc5c-0968-4986-9331-a367fcd0d71e",
   "metadata": {},
   "outputs": [],
   "source": []
  }
 ],
 "metadata": {
  "kernelspec": {
   "display_name": "Python 3 (ipykernel)",
   "language": "python",
   "name": "python3"
  },
  "language_info": {
   "codemirror_mode": {
    "name": "ipython",
    "version": 3
   },
   "file_extension": ".py",
   "mimetype": "text/x-python",
   "name": "python",
   "nbconvert_exporter": "python",
   "pygments_lexer": "ipython3",
   "version": "3.10.1"
  }
 },
 "nbformat": 4,
 "nbformat_minor": 5
}
